{
 "metadata": {
  "language_info": {
   "codemirror_mode": {
    "name": "ipython",
    "version": 3
   },
   "file_extension": ".py",
   "mimetype": "text/x-python",
   "name": "python",
   "nbconvert_exporter": "python",
   "pygments_lexer": "ipython3",
   "version": "3.8.5-final"
  },
  "orig_nbformat": 2,
  "kernelspec": {
   "name": "python3",
   "display_name": "Python 3",
   "language": "python"
  }
 },
 "nbformat": 4,
 "nbformat_minor": 2,
 "cells": [
  {
   "cell_type": "code",
   "execution_count": 1,
   "metadata": {},
   "outputs": [],
   "source": [
    "import pandas as pd \n",
    "import numpy as np \n",
    "import matplotlib.pyplot as plt \n",
    "import seaborn as sns\n",
    "%matplotlib inline "
   ]
  },
  {
   "cell_type": "code",
   "execution_count": 2,
   "metadata": {},
   "outputs": [],
   "source": [
    "file_owid = \"owid-covid-data.csv\"\n",
    "file_owid_df = pd.read_csv(file_owid)\n",
    "file_owid_df;"
   ]
  },
  {
   "cell_type": "code",
   "execution_count": 3,
   "metadata": {},
   "outputs": [],
   "source": [
    "file_who = \"who_covid_data.csv\"\n",
    "file_who_df = pd.read_csv(file_who)\n",
    "file_who_df;"
   ]
  },
  {
   "cell_type": "code",
   "execution_count": 4,
   "metadata": {},
   "outputs": [
    {
     "output_type": "execute_result",
     "data": {
      "text/plain": [
       "                         Name  Cases - cumulative total  \\\n",
       "0                      Global                 117332262   \n",
       "1    United States of America                  28825174   \n",
       "2                       India                  11262707   \n",
       "3                      Brazil                  11051665   \n",
       "4          Russian Federation                   4351553   \n",
       "..                        ...                       ...   \n",
       "232          Pitcairn Islands                         0   \n",
       "233                   Tokelau                         0   \n",
       "234                     Tonga                         0   \n",
       "235              Turkmenistan                         0   \n",
       "236                    Tuvalu                         0   \n",
       "\n",
       "     Deaths - cumulative total Transmission Classification  \n",
       "0                      2605356                         NaN  \n",
       "1                       522469      Community transmission  \n",
       "2                       158063           Clusters of cases  \n",
       "3                       266398      Community transmission  \n",
       "4                        90275           Clusters of cases  \n",
       "..                         ...                         ...  \n",
       "232                          0                    No cases  \n",
       "233                          0                    No cases  \n",
       "234                          0                    No cases  \n",
       "235                          0                    No cases  \n",
       "236                          0                    No cases  \n",
       "\n",
       "[237 rows x 4 columns]"
      ],
      "text/html": "<div>\n<style scoped>\n    .dataframe tbody tr th:only-of-type {\n        vertical-align: middle;\n    }\n\n    .dataframe tbody tr th {\n        vertical-align: top;\n    }\n\n    .dataframe thead th {\n        text-align: right;\n    }\n</style>\n<table border=\"1\" class=\"dataframe\">\n  <thead>\n    <tr style=\"text-align: right;\">\n      <th></th>\n      <th>Name</th>\n      <th>Cases - cumulative total</th>\n      <th>Deaths - cumulative total</th>\n      <th>Transmission Classification</th>\n    </tr>\n  </thead>\n  <tbody>\n    <tr>\n      <th>0</th>\n      <td>Global</td>\n      <td>117332262</td>\n      <td>2605356</td>\n      <td>NaN</td>\n    </tr>\n    <tr>\n      <th>1</th>\n      <td>United States of America</td>\n      <td>28825174</td>\n      <td>522469</td>\n      <td>Community transmission</td>\n    </tr>\n    <tr>\n      <th>2</th>\n      <td>India</td>\n      <td>11262707</td>\n      <td>158063</td>\n      <td>Clusters of cases</td>\n    </tr>\n    <tr>\n      <th>3</th>\n      <td>Brazil</td>\n      <td>11051665</td>\n      <td>266398</td>\n      <td>Community transmission</td>\n    </tr>\n    <tr>\n      <th>4</th>\n      <td>Russian Federation</td>\n      <td>4351553</td>\n      <td>90275</td>\n      <td>Clusters of cases</td>\n    </tr>\n    <tr>\n      <th>...</th>\n      <td>...</td>\n      <td>...</td>\n      <td>...</td>\n      <td>...</td>\n    </tr>\n    <tr>\n      <th>232</th>\n      <td>Pitcairn Islands</td>\n      <td>0</td>\n      <td>0</td>\n      <td>No cases</td>\n    </tr>\n    <tr>\n      <th>233</th>\n      <td>Tokelau</td>\n      <td>0</td>\n      <td>0</td>\n      <td>No cases</td>\n    </tr>\n    <tr>\n      <th>234</th>\n      <td>Tonga</td>\n      <td>0</td>\n      <td>0</td>\n      <td>No cases</td>\n    </tr>\n    <tr>\n      <th>235</th>\n      <td>Turkmenistan</td>\n      <td>0</td>\n      <td>0</td>\n      <td>No cases</td>\n    </tr>\n    <tr>\n      <th>236</th>\n      <td>Tuvalu</td>\n      <td>0</td>\n      <td>0</td>\n      <td>No cases</td>\n    </tr>\n  </tbody>\n</table>\n<p>237 rows × 4 columns</p>\n</div>"
     },
     "metadata": {},
     "execution_count": 4
    }
   ],
   "source": [
    "file_who_df = file_who_df.drop(columns=['WHO Region', 'Cases - cumulative total per 100000 population',\t'Cases - newly reported in last 7 days','Cases - newly reported in last 7 days per 100000 population', 'Deaths - cumulative total per 100000 population',\t'Deaths - newly reported in last 7 days','Deaths - newly reported in last 7 days per 100000 population', 'Cases - newly reported in last 24 hours', 'Deaths - newly reported in last 24 hours'])\n",
    "file_who_df"
   ]
  },
  {
   "cell_type": "code",
   "execution_count": 344,
   "metadata": {},
   "outputs": [
    {
     "output_type": "execute_result",
     "data": {
      "text/plain": [
       "    Country (or dependency)  Population (2020) Yearly Change  Net Change  \\\n",
       "0                     China         1440297825        0.39 %     5540090   \n",
       "1                     India         1382345085        0.99 %    13586631   \n",
       "2             United States          331341050        0.59 %     1937734   \n",
       "3                 Indonesia          274021604        1.07 %     2898047   \n",
       "4                  Pakistan          221612785        2.00 %     4327022   \n",
       "..                      ...                ...           ...         ...   \n",
       "230              Montserrat               4993        0.06 %           3   \n",
       "231        Falkland Islands               3497        3.05 %         103   \n",
       "232                    Niue               1628        0.68 %          11   \n",
       "233                 Tokelau               1360        1.27 %          17   \n",
       "234                Holy See                801        0.25 %           2   \n",
       "\n",
       "     Density (P/Km²)  Land Area (Km²)  Migrants (net) Fert. Rate Med. Age  \\\n",
       "0                153          9388211       -348399.0        1.7       38   \n",
       "1                464          2973190       -532687.0        2.2       28   \n",
       "2                 36          9147420        954806.0        1.8       38   \n",
       "3                151          1811570        -98955.0        2.3       30   \n",
       "4                287           770880       -233379.0        3.6       23   \n",
       "..               ...              ...             ...        ...      ...   \n",
       "230               50              100             NaN       N.A.     N.A.   \n",
       "231                0            12170             NaN       N.A.     N.A.   \n",
       "232                6              260             NaN       N.A.     N.A.   \n",
       "233              136               10             NaN       N.A.     N.A.   \n",
       "234             2003                0             NaN       N.A.     N.A.   \n",
       "\n",
       "    Urban Pop % World Share  \n",
       "0          61 %     18.47 %  \n",
       "1          35 %     17.70 %  \n",
       "2          83 %      4.25 %  \n",
       "3          56 %      3.51 %  \n",
       "4          35 %      2.83 %  \n",
       "..          ...         ...  \n",
       "230        10 %      0.00 %  \n",
       "231        66 %      0.00 %  \n",
       "232        46 %      0.00 %  \n",
       "233         0 %      0.00 %  \n",
       "234        N.A.      0.00 %  \n",
       "\n",
       "[235 rows x 11 columns]"
      ],
      "text/html": "<div>\n<style scoped>\n    .dataframe tbody tr th:only-of-type {\n        vertical-align: middle;\n    }\n\n    .dataframe tbody tr th {\n        vertical-align: top;\n    }\n\n    .dataframe thead th {\n        text-align: right;\n    }\n</style>\n<table border=\"1\" class=\"dataframe\">\n  <thead>\n    <tr style=\"text-align: right;\">\n      <th></th>\n      <th>Country (or dependency)</th>\n      <th>Population (2020)</th>\n      <th>Yearly Change</th>\n      <th>Net Change</th>\n      <th>Density (P/Km²)</th>\n      <th>Land Area (Km²)</th>\n      <th>Migrants (net)</th>\n      <th>Fert. Rate</th>\n      <th>Med. Age</th>\n      <th>Urban Pop %</th>\n      <th>World Share</th>\n    </tr>\n  </thead>\n  <tbody>\n    <tr>\n      <th>0</th>\n      <td>China</td>\n      <td>1440297825</td>\n      <td>0.39 %</td>\n      <td>5540090</td>\n      <td>153</td>\n      <td>9388211</td>\n      <td>-348399.0</td>\n      <td>1.7</td>\n      <td>38</td>\n      <td>61 %</td>\n      <td>18.47 %</td>\n    </tr>\n    <tr>\n      <th>1</th>\n      <td>India</td>\n      <td>1382345085</td>\n      <td>0.99 %</td>\n      <td>13586631</td>\n      <td>464</td>\n      <td>2973190</td>\n      <td>-532687.0</td>\n      <td>2.2</td>\n      <td>28</td>\n      <td>35 %</td>\n      <td>17.70 %</td>\n    </tr>\n    <tr>\n      <th>2</th>\n      <td>United States</td>\n      <td>331341050</td>\n      <td>0.59 %</td>\n      <td>1937734</td>\n      <td>36</td>\n      <td>9147420</td>\n      <td>954806.0</td>\n      <td>1.8</td>\n      <td>38</td>\n      <td>83 %</td>\n      <td>4.25 %</td>\n    </tr>\n    <tr>\n      <th>3</th>\n      <td>Indonesia</td>\n      <td>274021604</td>\n      <td>1.07 %</td>\n      <td>2898047</td>\n      <td>151</td>\n      <td>1811570</td>\n      <td>-98955.0</td>\n      <td>2.3</td>\n      <td>30</td>\n      <td>56 %</td>\n      <td>3.51 %</td>\n    </tr>\n    <tr>\n      <th>4</th>\n      <td>Pakistan</td>\n      <td>221612785</td>\n      <td>2.00 %</td>\n      <td>4327022</td>\n      <td>287</td>\n      <td>770880</td>\n      <td>-233379.0</td>\n      <td>3.6</td>\n      <td>23</td>\n      <td>35 %</td>\n      <td>2.83 %</td>\n    </tr>\n    <tr>\n      <th>...</th>\n      <td>...</td>\n      <td>...</td>\n      <td>...</td>\n      <td>...</td>\n      <td>...</td>\n      <td>...</td>\n      <td>...</td>\n      <td>...</td>\n      <td>...</td>\n      <td>...</td>\n      <td>...</td>\n    </tr>\n    <tr>\n      <th>230</th>\n      <td>Montserrat</td>\n      <td>4993</td>\n      <td>0.06 %</td>\n      <td>3</td>\n      <td>50</td>\n      <td>100</td>\n      <td>NaN</td>\n      <td>N.A.</td>\n      <td>N.A.</td>\n      <td>10 %</td>\n      <td>0.00 %</td>\n    </tr>\n    <tr>\n      <th>231</th>\n      <td>Falkland Islands</td>\n      <td>3497</td>\n      <td>3.05 %</td>\n      <td>103</td>\n      <td>0</td>\n      <td>12170</td>\n      <td>NaN</td>\n      <td>N.A.</td>\n      <td>N.A.</td>\n      <td>66 %</td>\n      <td>0.00 %</td>\n    </tr>\n    <tr>\n      <th>232</th>\n      <td>Niue</td>\n      <td>1628</td>\n      <td>0.68 %</td>\n      <td>11</td>\n      <td>6</td>\n      <td>260</td>\n      <td>NaN</td>\n      <td>N.A.</td>\n      <td>N.A.</td>\n      <td>46 %</td>\n      <td>0.00 %</td>\n    </tr>\n    <tr>\n      <th>233</th>\n      <td>Tokelau</td>\n      <td>1360</td>\n      <td>1.27 %</td>\n      <td>17</td>\n      <td>136</td>\n      <td>10</td>\n      <td>NaN</td>\n      <td>N.A.</td>\n      <td>N.A.</td>\n      <td>0 %</td>\n      <td>0.00 %</td>\n    </tr>\n    <tr>\n      <th>234</th>\n      <td>Holy See</td>\n      <td>801</td>\n      <td>0.25 %</td>\n      <td>2</td>\n      <td>2003</td>\n      <td>0</td>\n      <td>NaN</td>\n      <td>N.A.</td>\n      <td>N.A.</td>\n      <td>N.A.</td>\n      <td>0.00 %</td>\n    </tr>\n  </tbody>\n</table>\n<p>235 rows × 11 columns</p>\n</div>"
     },
     "metadata": {},
     "execution_count": 344
    }
   ],
   "source": [
    "file_pop = \"population_by_country_2020.csv\"\n",
    "file_pop_df = pd.read_csv(file_pop)\n",
    "file_pop_df"
   ]
  },
  {
   "cell_type": "code",
   "execution_count": 345,
   "metadata": {},
   "outputs": [
    {
     "output_type": "execute_result",
     "data": {
      "text/plain": [
       "    Country (or dependency)  Population (2020)  Density (P/Km²)  \\\n",
       "0                     China         1440297825              153   \n",
       "1                     India         1382345085              464   \n",
       "2             United States          331341050               36   \n",
       "3                 Indonesia          274021604              151   \n",
       "4                  Pakistan          221612785              287   \n",
       "..                      ...                ...              ...   \n",
       "230              Montserrat               4993               50   \n",
       "231        Falkland Islands               3497                0   \n",
       "232                    Niue               1628                6   \n",
       "233                 Tokelau               1360              136   \n",
       "234                Holy See                801             2003   \n",
       "\n",
       "     Land Area (Km²) Med. Age Urban Pop % World Share  \n",
       "0            9388211       38        61 %     18.47 %  \n",
       "1            2973190       28        35 %     17.70 %  \n",
       "2            9147420       38        83 %      4.25 %  \n",
       "3            1811570       30        56 %      3.51 %  \n",
       "4             770880       23        35 %      2.83 %  \n",
       "..               ...      ...         ...         ...  \n",
       "230              100     N.A.        10 %      0.00 %  \n",
       "231            12170     N.A.        66 %      0.00 %  \n",
       "232              260     N.A.        46 %      0.00 %  \n",
       "233               10     N.A.         0 %      0.00 %  \n",
       "234                0     N.A.        N.A.      0.00 %  \n",
       "\n",
       "[235 rows x 7 columns]"
      ],
      "text/html": "<div>\n<style scoped>\n    .dataframe tbody tr th:only-of-type {\n        vertical-align: middle;\n    }\n\n    .dataframe tbody tr th {\n        vertical-align: top;\n    }\n\n    .dataframe thead th {\n        text-align: right;\n    }\n</style>\n<table border=\"1\" class=\"dataframe\">\n  <thead>\n    <tr style=\"text-align: right;\">\n      <th></th>\n      <th>Country (or dependency)</th>\n      <th>Population (2020)</th>\n      <th>Density (P/Km²)</th>\n      <th>Land Area (Km²)</th>\n      <th>Med. Age</th>\n      <th>Urban Pop %</th>\n      <th>World Share</th>\n    </tr>\n  </thead>\n  <tbody>\n    <tr>\n      <th>0</th>\n      <td>China</td>\n      <td>1440297825</td>\n      <td>153</td>\n      <td>9388211</td>\n      <td>38</td>\n      <td>61 %</td>\n      <td>18.47 %</td>\n    </tr>\n    <tr>\n      <th>1</th>\n      <td>India</td>\n      <td>1382345085</td>\n      <td>464</td>\n      <td>2973190</td>\n      <td>28</td>\n      <td>35 %</td>\n      <td>17.70 %</td>\n    </tr>\n    <tr>\n      <th>2</th>\n      <td>United States</td>\n      <td>331341050</td>\n      <td>36</td>\n      <td>9147420</td>\n      <td>38</td>\n      <td>83 %</td>\n      <td>4.25 %</td>\n    </tr>\n    <tr>\n      <th>3</th>\n      <td>Indonesia</td>\n      <td>274021604</td>\n      <td>151</td>\n      <td>1811570</td>\n      <td>30</td>\n      <td>56 %</td>\n      <td>3.51 %</td>\n    </tr>\n    <tr>\n      <th>4</th>\n      <td>Pakistan</td>\n      <td>221612785</td>\n      <td>287</td>\n      <td>770880</td>\n      <td>23</td>\n      <td>35 %</td>\n      <td>2.83 %</td>\n    </tr>\n    <tr>\n      <th>...</th>\n      <td>...</td>\n      <td>...</td>\n      <td>...</td>\n      <td>...</td>\n      <td>...</td>\n      <td>...</td>\n      <td>...</td>\n    </tr>\n    <tr>\n      <th>230</th>\n      <td>Montserrat</td>\n      <td>4993</td>\n      <td>50</td>\n      <td>100</td>\n      <td>N.A.</td>\n      <td>10 %</td>\n      <td>0.00 %</td>\n    </tr>\n    <tr>\n      <th>231</th>\n      <td>Falkland Islands</td>\n      <td>3497</td>\n      <td>0</td>\n      <td>12170</td>\n      <td>N.A.</td>\n      <td>66 %</td>\n      <td>0.00 %</td>\n    </tr>\n    <tr>\n      <th>232</th>\n      <td>Niue</td>\n      <td>1628</td>\n      <td>6</td>\n      <td>260</td>\n      <td>N.A.</td>\n      <td>46 %</td>\n      <td>0.00 %</td>\n    </tr>\n    <tr>\n      <th>233</th>\n      <td>Tokelau</td>\n      <td>1360</td>\n      <td>136</td>\n      <td>10</td>\n      <td>N.A.</td>\n      <td>0 %</td>\n      <td>0.00 %</td>\n    </tr>\n    <tr>\n      <th>234</th>\n      <td>Holy See</td>\n      <td>801</td>\n      <td>2003</td>\n      <td>0</td>\n      <td>N.A.</td>\n      <td>N.A.</td>\n      <td>0.00 %</td>\n    </tr>\n  </tbody>\n</table>\n<p>235 rows × 7 columns</p>\n</div>"
     },
     "metadata": {},
     "execution_count": 345
    }
   ],
   "source": [
    "file_pop_df = file_pop_df.drop(columns=['Yearly Change', \"Net Change\", \"Migrants (net)\", \"Fert. Rate\"])\n",
    "file_pop_df"
   ]
  },
  {
   "cell_type": "code",
   "execution_count": 346,
   "metadata": {},
   "outputs": [
    {
     "output_type": "execute_result",
     "data": {
      "text/plain": [
       "                     Location  Cases - cumulative total  \\\n",
       "0                      Global                 117332262   \n",
       "1    United States of America                  28825174   \n",
       "2                       India                  11262707   \n",
       "3                      Brazil                  11051665   \n",
       "4          Russian Federation                   4351553   \n",
       "..                        ...                       ...   \n",
       "232          Pitcairn Islands                         0   \n",
       "233                   Tokelau                         0   \n",
       "234                     Tonga                         0   \n",
       "235              Turkmenistan                         0   \n",
       "236                    Tuvalu                         0   \n",
       "\n",
       "     Deaths - cumulative total Transmission Classification  \n",
       "0                      2605356                         NaN  \n",
       "1                       522469      Community transmission  \n",
       "2                       158063           Clusters of cases  \n",
       "3                       266398      Community transmission  \n",
       "4                        90275           Clusters of cases  \n",
       "..                         ...                         ...  \n",
       "232                          0                    No cases  \n",
       "233                          0                    No cases  \n",
       "234                          0                    No cases  \n",
       "235                          0                    No cases  \n",
       "236                          0                    No cases  \n",
       "\n",
       "[237 rows x 4 columns]"
      ],
      "text/html": "<div>\n<style scoped>\n    .dataframe tbody tr th:only-of-type {\n        vertical-align: middle;\n    }\n\n    .dataframe tbody tr th {\n        vertical-align: top;\n    }\n\n    .dataframe thead th {\n        text-align: right;\n    }\n</style>\n<table border=\"1\" class=\"dataframe\">\n  <thead>\n    <tr style=\"text-align: right;\">\n      <th></th>\n      <th>Location</th>\n      <th>Cases - cumulative total</th>\n      <th>Deaths - cumulative total</th>\n      <th>Transmission Classification</th>\n    </tr>\n  </thead>\n  <tbody>\n    <tr>\n      <th>0</th>\n      <td>Global</td>\n      <td>117332262</td>\n      <td>2605356</td>\n      <td>NaN</td>\n    </tr>\n    <tr>\n      <th>1</th>\n      <td>United States of America</td>\n      <td>28825174</td>\n      <td>522469</td>\n      <td>Community transmission</td>\n    </tr>\n    <tr>\n      <th>2</th>\n      <td>India</td>\n      <td>11262707</td>\n      <td>158063</td>\n      <td>Clusters of cases</td>\n    </tr>\n    <tr>\n      <th>3</th>\n      <td>Brazil</td>\n      <td>11051665</td>\n      <td>266398</td>\n      <td>Community transmission</td>\n    </tr>\n    <tr>\n      <th>4</th>\n      <td>Russian Federation</td>\n      <td>4351553</td>\n      <td>90275</td>\n      <td>Clusters of cases</td>\n    </tr>\n    <tr>\n      <th>...</th>\n      <td>...</td>\n      <td>...</td>\n      <td>...</td>\n      <td>...</td>\n    </tr>\n    <tr>\n      <th>232</th>\n      <td>Pitcairn Islands</td>\n      <td>0</td>\n      <td>0</td>\n      <td>No cases</td>\n    </tr>\n    <tr>\n      <th>233</th>\n      <td>Tokelau</td>\n      <td>0</td>\n      <td>0</td>\n      <td>No cases</td>\n    </tr>\n    <tr>\n      <th>234</th>\n      <td>Tonga</td>\n      <td>0</td>\n      <td>0</td>\n      <td>No cases</td>\n    </tr>\n    <tr>\n      <th>235</th>\n      <td>Turkmenistan</td>\n      <td>0</td>\n      <td>0</td>\n      <td>No cases</td>\n    </tr>\n    <tr>\n      <th>236</th>\n      <td>Tuvalu</td>\n      <td>0</td>\n      <td>0</td>\n      <td>No cases</td>\n    </tr>\n  </tbody>\n</table>\n<p>237 rows × 4 columns</p>\n</div>"
     },
     "metadata": {},
     "execution_count": 346
    }
   ],
   "source": [
    "file_pop_df = file_pop_df.rename(columns={\"Country (or dependency)\": \"Location\"})\n",
    "file_who_df = file_who_df.rename(columns={\"Name\": \"Location\"})\n",
    "file_who_df"
   ]
  },
  {
   "cell_type": "code",
   "execution_count": 347,
   "metadata": {},
   "outputs": [
    {
     "output_type": "execute_result",
     "data": {
      "text/plain": [
       "                     Location  Cases - cumulative total  \\\n",
       "1    United States of America                  28825174   \n",
       "2                       India                  11262707   \n",
       "3                      Brazil                  11051665   \n",
       "4          Russian Federation                   4351553   \n",
       "5          The United Kingdom                   4229002   \n",
       "..                        ...                       ...   \n",
       "232          Pitcairn Islands                         0   \n",
       "233                   Tokelau                         0   \n",
       "234                     Tonga                         0   \n",
       "235              Turkmenistan                         0   \n",
       "236                    Tuvalu                         0   \n",
       "\n",
       "     Deaths - cumulative total Transmission Classification  \n",
       "1                       522469      Community transmission  \n",
       "2                       158063           Clusters of cases  \n",
       "3                       266398      Community transmission  \n",
       "4                        90275           Clusters of cases  \n",
       "5                       124797      Community transmission  \n",
       "..                         ...                         ...  \n",
       "232                          0                    No cases  \n",
       "233                          0                    No cases  \n",
       "234                          0                    No cases  \n",
       "235                          0                    No cases  \n",
       "236                          0                    No cases  \n",
       "\n",
       "[236 rows x 4 columns]"
      ],
      "text/html": "<div>\n<style scoped>\n    .dataframe tbody tr th:only-of-type {\n        vertical-align: middle;\n    }\n\n    .dataframe tbody tr th {\n        vertical-align: top;\n    }\n\n    .dataframe thead th {\n        text-align: right;\n    }\n</style>\n<table border=\"1\" class=\"dataframe\">\n  <thead>\n    <tr style=\"text-align: right;\">\n      <th></th>\n      <th>Location</th>\n      <th>Cases - cumulative total</th>\n      <th>Deaths - cumulative total</th>\n      <th>Transmission Classification</th>\n    </tr>\n  </thead>\n  <tbody>\n    <tr>\n      <th>1</th>\n      <td>United States of America</td>\n      <td>28825174</td>\n      <td>522469</td>\n      <td>Community transmission</td>\n    </tr>\n    <tr>\n      <th>2</th>\n      <td>India</td>\n      <td>11262707</td>\n      <td>158063</td>\n      <td>Clusters of cases</td>\n    </tr>\n    <tr>\n      <th>3</th>\n      <td>Brazil</td>\n      <td>11051665</td>\n      <td>266398</td>\n      <td>Community transmission</td>\n    </tr>\n    <tr>\n      <th>4</th>\n      <td>Russian Federation</td>\n      <td>4351553</td>\n      <td>90275</td>\n      <td>Clusters of cases</td>\n    </tr>\n    <tr>\n      <th>5</th>\n      <td>The United Kingdom</td>\n      <td>4229002</td>\n      <td>124797</td>\n      <td>Community transmission</td>\n    </tr>\n    <tr>\n      <th>...</th>\n      <td>...</td>\n      <td>...</td>\n      <td>...</td>\n      <td>...</td>\n    </tr>\n    <tr>\n      <th>232</th>\n      <td>Pitcairn Islands</td>\n      <td>0</td>\n      <td>0</td>\n      <td>No cases</td>\n    </tr>\n    <tr>\n      <th>233</th>\n      <td>Tokelau</td>\n      <td>0</td>\n      <td>0</td>\n      <td>No cases</td>\n    </tr>\n    <tr>\n      <th>234</th>\n      <td>Tonga</td>\n      <td>0</td>\n      <td>0</td>\n      <td>No cases</td>\n    </tr>\n    <tr>\n      <th>235</th>\n      <td>Turkmenistan</td>\n      <td>0</td>\n      <td>0</td>\n      <td>No cases</td>\n    </tr>\n    <tr>\n      <th>236</th>\n      <td>Tuvalu</td>\n      <td>0</td>\n      <td>0</td>\n      <td>No cases</td>\n    </tr>\n  </tbody>\n</table>\n<p>236 rows × 4 columns</p>\n</div>"
     },
     "metadata": {},
     "execution_count": 347
    }
   ],
   "source": [
    "file_who_df = file_who_df.drop(file_who_df.index[0])\n",
    "file_who_df"
   ]
  },
  {
   "cell_type": "code",
   "execution_count": 348,
   "metadata": {},
   "outputs": [],
   "source": [
    "load = file_who_df.rename(columns = {\"Location\" : \"location\", \"Cases - cumulative total\" : \"total_cases\", \"Deaths - cumulative total\" : \"total_deaths\", \"Transmission Classification\" : \"transmission_classification\", \"Population (2020)\" : \"population_2020\"})"
   ]
  },
  {
   "cell_type": "code",
   "execution_count": 349,
   "metadata": {},
   "outputs": [
    {
     "output_type": "execute_result",
     "data": {
      "text/plain": [
       "             Location  Density (P/Km²)  Land Area (Km²) Med. Age Urban Pop %  \\\n",
       "0               China              153          9388211       38        61 %   \n",
       "1               India              464          2973190       28        35 %   \n",
       "2       United States               36          9147420       38        83 %   \n",
       "3           Indonesia              151          1811570       30        56 %   \n",
       "4            Pakistan              287           770880       23        35 %   \n",
       "..                ...              ...              ...      ...         ...   \n",
       "230        Montserrat               50              100     N.A.        10 %   \n",
       "231  Falkland Islands                0            12170     N.A.        66 %   \n",
       "232              Niue                6              260     N.A.        46 %   \n",
       "233           Tokelau              136               10     N.A.         0 %   \n",
       "234          Holy See             2003                0     N.A.        N.A.   \n",
       "\n",
       "    World Share  \n",
       "0       18.47 %  \n",
       "1       17.70 %  \n",
       "2        4.25 %  \n",
       "3        3.51 %  \n",
       "4        2.83 %  \n",
       "..          ...  \n",
       "230      0.00 %  \n",
       "231      0.00 %  \n",
       "232      0.00 %  \n",
       "233      0.00 %  \n",
       "234      0.00 %  \n",
       "\n",
       "[235 rows x 6 columns]"
      ],
      "text/html": "<div>\n<style scoped>\n    .dataframe tbody tr th:only-of-type {\n        vertical-align: middle;\n    }\n\n    .dataframe tbody tr th {\n        vertical-align: top;\n    }\n\n    .dataframe thead th {\n        text-align: right;\n    }\n</style>\n<table border=\"1\" class=\"dataframe\">\n  <thead>\n    <tr style=\"text-align: right;\">\n      <th></th>\n      <th>Location</th>\n      <th>Density (P/Km²)</th>\n      <th>Land Area (Km²)</th>\n      <th>Med. Age</th>\n      <th>Urban Pop %</th>\n      <th>World Share</th>\n    </tr>\n  </thead>\n  <tbody>\n    <tr>\n      <th>0</th>\n      <td>China</td>\n      <td>153</td>\n      <td>9388211</td>\n      <td>38</td>\n      <td>61 %</td>\n      <td>18.47 %</td>\n    </tr>\n    <tr>\n      <th>1</th>\n      <td>India</td>\n      <td>464</td>\n      <td>2973190</td>\n      <td>28</td>\n      <td>35 %</td>\n      <td>17.70 %</td>\n    </tr>\n    <tr>\n      <th>2</th>\n      <td>United States</td>\n      <td>36</td>\n      <td>9147420</td>\n      <td>38</td>\n      <td>83 %</td>\n      <td>4.25 %</td>\n    </tr>\n    <tr>\n      <th>3</th>\n      <td>Indonesia</td>\n      <td>151</td>\n      <td>1811570</td>\n      <td>30</td>\n      <td>56 %</td>\n      <td>3.51 %</td>\n    </tr>\n    <tr>\n      <th>4</th>\n      <td>Pakistan</td>\n      <td>287</td>\n      <td>770880</td>\n      <td>23</td>\n      <td>35 %</td>\n      <td>2.83 %</td>\n    </tr>\n    <tr>\n      <th>...</th>\n      <td>...</td>\n      <td>...</td>\n      <td>...</td>\n      <td>...</td>\n      <td>...</td>\n      <td>...</td>\n    </tr>\n    <tr>\n      <th>230</th>\n      <td>Montserrat</td>\n      <td>50</td>\n      <td>100</td>\n      <td>N.A.</td>\n      <td>10 %</td>\n      <td>0.00 %</td>\n    </tr>\n    <tr>\n      <th>231</th>\n      <td>Falkland Islands</td>\n      <td>0</td>\n      <td>12170</td>\n      <td>N.A.</td>\n      <td>66 %</td>\n      <td>0.00 %</td>\n    </tr>\n    <tr>\n      <th>232</th>\n      <td>Niue</td>\n      <td>6</td>\n      <td>260</td>\n      <td>N.A.</td>\n      <td>46 %</td>\n      <td>0.00 %</td>\n    </tr>\n    <tr>\n      <th>233</th>\n      <td>Tokelau</td>\n      <td>136</td>\n      <td>10</td>\n      <td>N.A.</td>\n      <td>0 %</td>\n      <td>0.00 %</td>\n    </tr>\n    <tr>\n      <th>234</th>\n      <td>Holy See</td>\n      <td>2003</td>\n      <td>0</td>\n      <td>N.A.</td>\n      <td>N.A.</td>\n      <td>0.00 %</td>\n    </tr>\n  </tbody>\n</table>\n<p>235 rows × 6 columns</p>\n</div>"
     },
     "metadata": {},
     "execution_count": 349
    }
   ],
   "source": [
    "population_data = file_pop_df.drop(columns=[\"Population (2020)\"])\n",
    "population_data"
   ]
  },
  {
   "cell_type": "code",
   "execution_count": 351,
   "metadata": {},
   "outputs": [],
   "source": [
    "population_data.to_csv(\"load/population_data.csv\", index=False, header=True)"
   ]
  },
  {
   "cell_type": "code",
   "execution_count": 352,
   "metadata": {},
   "outputs": [],
   "source": [
    "pop = file_pop_df['Population (2020)']"
   ]
  },
  {
   "cell_type": "code",
   "execution_count": 353,
   "metadata": {},
   "outputs": [],
   "source": [
    "pop.head()\n",
    "pop = pd.DataFrame(pop)"
   ]
  },
  {
   "source": [
    "# df1= file_who_df\n",
    "# df2= file_pop_df['Population (2020)']\n",
    "\n",
    "file_who_df['Population (2020)'] = pop\n",
    "\n",
    "\n",
    "# file_who_df.to_(\"load/covid-data.csv\", index=False, header=True)"
   ],
   "cell_type": "code",
   "metadata": {},
   "execution_count": 354,
   "outputs": []
  },
  {
   "cell_type": "code",
   "execution_count": 355,
   "metadata": {},
   "outputs": [
    {
     "output_type": "execute_result",
     "data": {
      "text/plain": [
       "                     Location  Cases - cumulative total  \\\n",
       "1    United States of America                  28825174   \n",
       "2                       India                  11262707   \n",
       "3                      Brazil                  11051665   \n",
       "4          Russian Federation                   4351553   \n",
       "5          The United Kingdom                   4229002   \n",
       "..                        ...                       ...   \n",
       "232          Pitcairn Islands                         0   \n",
       "233                   Tokelau                         0   \n",
       "234                     Tonga                         0   \n",
       "235              Turkmenistan                         0   \n",
       "236                    Tuvalu                         0   \n",
       "\n",
       "     Deaths - cumulative total Transmission Classification  Population (2020)  \n",
       "1                       522469      Community transmission       1.382345e+09  \n",
       "2                       158063           Clusters of cases       3.313410e+08  \n",
       "3                       266398      Community transmission       2.740216e+08  \n",
       "4                        90275           Clusters of cases       2.216128e+08  \n",
       "5                       124797      Community transmission       2.128220e+08  \n",
       "..                         ...                         ...                ...  \n",
       "232                          0                    No cases       1.628000e+03  \n",
       "233                          0                    No cases       1.360000e+03  \n",
       "234                          0                    No cases       8.010000e+02  \n",
       "235                          0                    No cases                NaN  \n",
       "236                          0                    No cases                NaN  \n",
       "\n",
       "[236 rows x 5 columns]"
      ],
      "text/html": "<div>\n<style scoped>\n    .dataframe tbody tr th:only-of-type {\n        vertical-align: middle;\n    }\n\n    .dataframe tbody tr th {\n        vertical-align: top;\n    }\n\n    .dataframe thead th {\n        text-align: right;\n    }\n</style>\n<table border=\"1\" class=\"dataframe\">\n  <thead>\n    <tr style=\"text-align: right;\">\n      <th></th>\n      <th>Location</th>\n      <th>Cases - cumulative total</th>\n      <th>Deaths - cumulative total</th>\n      <th>Transmission Classification</th>\n      <th>Population (2020)</th>\n    </tr>\n  </thead>\n  <tbody>\n    <tr>\n      <th>1</th>\n      <td>United States of America</td>\n      <td>28825174</td>\n      <td>522469</td>\n      <td>Community transmission</td>\n      <td>1.382345e+09</td>\n    </tr>\n    <tr>\n      <th>2</th>\n      <td>India</td>\n      <td>11262707</td>\n      <td>158063</td>\n      <td>Clusters of cases</td>\n      <td>3.313410e+08</td>\n    </tr>\n    <tr>\n      <th>3</th>\n      <td>Brazil</td>\n      <td>11051665</td>\n      <td>266398</td>\n      <td>Community transmission</td>\n      <td>2.740216e+08</td>\n    </tr>\n    <tr>\n      <th>4</th>\n      <td>Russian Federation</td>\n      <td>4351553</td>\n      <td>90275</td>\n      <td>Clusters of cases</td>\n      <td>2.216128e+08</td>\n    </tr>\n    <tr>\n      <th>5</th>\n      <td>The United Kingdom</td>\n      <td>4229002</td>\n      <td>124797</td>\n      <td>Community transmission</td>\n      <td>2.128220e+08</td>\n    </tr>\n    <tr>\n      <th>...</th>\n      <td>...</td>\n      <td>...</td>\n      <td>...</td>\n      <td>...</td>\n      <td>...</td>\n    </tr>\n    <tr>\n      <th>232</th>\n      <td>Pitcairn Islands</td>\n      <td>0</td>\n      <td>0</td>\n      <td>No cases</td>\n      <td>1.628000e+03</td>\n    </tr>\n    <tr>\n      <th>233</th>\n      <td>Tokelau</td>\n      <td>0</td>\n      <td>0</td>\n      <td>No cases</td>\n      <td>1.360000e+03</td>\n    </tr>\n    <tr>\n      <th>234</th>\n      <td>Tonga</td>\n      <td>0</td>\n      <td>0</td>\n      <td>No cases</td>\n      <td>8.010000e+02</td>\n    </tr>\n    <tr>\n      <th>235</th>\n      <td>Turkmenistan</td>\n      <td>0</td>\n      <td>0</td>\n      <td>No cases</td>\n      <td>NaN</td>\n    </tr>\n    <tr>\n      <th>236</th>\n      <td>Tuvalu</td>\n      <td>0</td>\n      <td>0</td>\n      <td>No cases</td>\n      <td>NaN</td>\n    </tr>\n  </tbody>\n</table>\n<p>236 rows × 5 columns</p>\n</div>"
     },
     "metadata": {},
     "execution_count": 355
    }
   ],
   "source": [
    "file_who_df"
   ]
  },
  {
   "cell_type": "code",
   "execution_count": 356,
   "metadata": {},
   "outputs": [],
   "source": [
    "load = file_who_df.rename(columns = {\"Location\" : \"location\", \"Cases - cumulative total\" : \"total_cases\", \"Deaths - cumulative total\" : \"total_deaths\", \"Transmission Classification\" : \"transmission_classification\", \"Population (2020)\" : \"population_2020\"})"
   ]
  },
  {
   "cell_type": "code",
   "execution_count": 358,
   "metadata": {},
   "outputs": [
    {
     "output_type": "execute_result",
     "data": {
      "text/plain": [
       "                   location  total_cases  total_deaths  \\\n",
       "1  United States of America     28825174        522469   \n",
       "2                     India     11262707        158063   \n",
       "3                    Brazil     11051665        266398   \n",
       "4        Russian Federation      4351553         90275   \n",
       "5        The United Kingdom      4229002        124797   \n",
       "\n",
       "  transmission_classification  population_2020  \n",
       "1      Community transmission     1.382345e+09  \n",
       "2           Clusters of cases     3.313410e+08  \n",
       "3      Community transmission     2.740216e+08  \n",
       "4           Clusters of cases     2.216128e+08  \n",
       "5      Community transmission     2.128220e+08  "
      ],
      "text/html": "<div>\n<style scoped>\n    .dataframe tbody tr th:only-of-type {\n        vertical-align: middle;\n    }\n\n    .dataframe tbody tr th {\n        vertical-align: top;\n    }\n\n    .dataframe thead th {\n        text-align: right;\n    }\n</style>\n<table border=\"1\" class=\"dataframe\">\n  <thead>\n    <tr style=\"text-align: right;\">\n      <th></th>\n      <th>location</th>\n      <th>total_cases</th>\n      <th>total_deaths</th>\n      <th>transmission_classification</th>\n      <th>population_2020</th>\n    </tr>\n  </thead>\n  <tbody>\n    <tr>\n      <th>1</th>\n      <td>United States of America</td>\n      <td>28825174</td>\n      <td>522469</td>\n      <td>Community transmission</td>\n      <td>1.382345e+09</td>\n    </tr>\n    <tr>\n      <th>2</th>\n      <td>India</td>\n      <td>11262707</td>\n      <td>158063</td>\n      <td>Clusters of cases</td>\n      <td>3.313410e+08</td>\n    </tr>\n    <tr>\n      <th>3</th>\n      <td>Brazil</td>\n      <td>11051665</td>\n      <td>266398</td>\n      <td>Community transmission</td>\n      <td>2.740216e+08</td>\n    </tr>\n    <tr>\n      <th>4</th>\n      <td>Russian Federation</td>\n      <td>4351553</td>\n      <td>90275</td>\n      <td>Clusters of cases</td>\n      <td>2.216128e+08</td>\n    </tr>\n    <tr>\n      <th>5</th>\n      <td>The United Kingdom</td>\n      <td>4229002</td>\n      <td>124797</td>\n      <td>Community transmission</td>\n      <td>2.128220e+08</td>\n    </tr>\n  </tbody>\n</table>\n</div>"
     },
     "metadata": {},
     "execution_count": 358
    }
   ],
   "source": [
    "load.head()"
   ]
  },
  {
   "cell_type": "code",
   "execution_count": 359,
   "metadata": {},
   "outputs": [
    {
     "output_type": "execute_result",
     "data": {
      "text/plain": [
       "             Location  Population (2020)  Density (P/Km²)  Land Area (Km²)  \\\n",
       "0               China         1440297825              153          9388211   \n",
       "1               India         1382345085              464          2973190   \n",
       "2       United States          331341050               36          9147420   \n",
       "3           Indonesia          274021604              151          1811570   \n",
       "4            Pakistan          221612785              287           770880   \n",
       "..                ...                ...              ...              ...   \n",
       "230        Montserrat               4993               50              100   \n",
       "231  Falkland Islands               3497                0            12170   \n",
       "232              Niue               1628                6              260   \n",
       "233           Tokelau               1360              136               10   \n",
       "234          Holy See                801             2003                0   \n",
       "\n",
       "    Med. Age Urban Pop % World Share  \n",
       "0         38        61 %     18.47 %  \n",
       "1         28        35 %     17.70 %  \n",
       "2         38        83 %      4.25 %  \n",
       "3         30        56 %      3.51 %  \n",
       "4         23        35 %      2.83 %  \n",
       "..       ...         ...         ...  \n",
       "230     N.A.        10 %      0.00 %  \n",
       "231     N.A.        66 %      0.00 %  \n",
       "232     N.A.        46 %      0.00 %  \n",
       "233     N.A.         0 %      0.00 %  \n",
       "234     N.A.        N.A.      0.00 %  \n",
       "\n",
       "[235 rows x 7 columns]"
      ],
      "text/html": "<div>\n<style scoped>\n    .dataframe tbody tr th:only-of-type {\n        vertical-align: middle;\n    }\n\n    .dataframe tbody tr th {\n        vertical-align: top;\n    }\n\n    .dataframe thead th {\n        text-align: right;\n    }\n</style>\n<table border=\"1\" class=\"dataframe\">\n  <thead>\n    <tr style=\"text-align: right;\">\n      <th></th>\n      <th>Location</th>\n      <th>Population (2020)</th>\n      <th>Density (P/Km²)</th>\n      <th>Land Area (Km²)</th>\n      <th>Med. Age</th>\n      <th>Urban Pop %</th>\n      <th>World Share</th>\n    </tr>\n  </thead>\n  <tbody>\n    <tr>\n      <th>0</th>\n      <td>China</td>\n      <td>1440297825</td>\n      <td>153</td>\n      <td>9388211</td>\n      <td>38</td>\n      <td>61 %</td>\n      <td>18.47 %</td>\n    </tr>\n    <tr>\n      <th>1</th>\n      <td>India</td>\n      <td>1382345085</td>\n      <td>464</td>\n      <td>2973190</td>\n      <td>28</td>\n      <td>35 %</td>\n      <td>17.70 %</td>\n    </tr>\n    <tr>\n      <th>2</th>\n      <td>United States</td>\n      <td>331341050</td>\n      <td>36</td>\n      <td>9147420</td>\n      <td>38</td>\n      <td>83 %</td>\n      <td>4.25 %</td>\n    </tr>\n    <tr>\n      <th>3</th>\n      <td>Indonesia</td>\n      <td>274021604</td>\n      <td>151</td>\n      <td>1811570</td>\n      <td>30</td>\n      <td>56 %</td>\n      <td>3.51 %</td>\n    </tr>\n    <tr>\n      <th>4</th>\n      <td>Pakistan</td>\n      <td>221612785</td>\n      <td>287</td>\n      <td>770880</td>\n      <td>23</td>\n      <td>35 %</td>\n      <td>2.83 %</td>\n    </tr>\n    <tr>\n      <th>...</th>\n      <td>...</td>\n      <td>...</td>\n      <td>...</td>\n      <td>...</td>\n      <td>...</td>\n      <td>...</td>\n      <td>...</td>\n    </tr>\n    <tr>\n      <th>230</th>\n      <td>Montserrat</td>\n      <td>4993</td>\n      <td>50</td>\n      <td>100</td>\n      <td>N.A.</td>\n      <td>10 %</td>\n      <td>0.00 %</td>\n    </tr>\n    <tr>\n      <th>231</th>\n      <td>Falkland Islands</td>\n      <td>3497</td>\n      <td>0</td>\n      <td>12170</td>\n      <td>N.A.</td>\n      <td>66 %</td>\n      <td>0.00 %</td>\n    </tr>\n    <tr>\n      <th>232</th>\n      <td>Niue</td>\n      <td>1628</td>\n      <td>6</td>\n      <td>260</td>\n      <td>N.A.</td>\n      <td>46 %</td>\n      <td>0.00 %</td>\n    </tr>\n    <tr>\n      <th>233</th>\n      <td>Tokelau</td>\n      <td>1360</td>\n      <td>136</td>\n      <td>10</td>\n      <td>N.A.</td>\n      <td>0 %</td>\n      <td>0.00 %</td>\n    </tr>\n    <tr>\n      <th>234</th>\n      <td>Holy See</td>\n      <td>801</td>\n      <td>2003</td>\n      <td>0</td>\n      <td>N.A.</td>\n      <td>N.A.</td>\n      <td>0.00 %</td>\n    </tr>\n  </tbody>\n</table>\n<p>235 rows × 7 columns</p>\n</div>"
     },
     "metadata": {},
     "execution_count": 359
    }
   ],
   "source": [
    "file_pop_df"
   ]
  },
  {
   "cell_type": "code",
   "execution_count": 360,
   "metadata": {},
   "outputs": [],
   "source": [
    "new_df =  file_who_df.drop('Transmission Classification', axis =1)"
   ]
  },
  {
   "cell_type": "code",
   "execution_count": 361,
   "metadata": {},
   "outputs": [
    {
     "output_type": "execute_result",
     "data": {
      "text/plain": [
       "                     Location  Cases - cumulative total  \\\n",
       "1    United States of America                  28825174   \n",
       "2                       India                  11262707   \n",
       "3                      Brazil                  11051665   \n",
       "4          Russian Federation                   4351553   \n",
       "5          The United Kingdom                   4229002   \n",
       "..                        ...                       ...   \n",
       "232          Pitcairn Islands                         0   \n",
       "233                   Tokelau                         0   \n",
       "234                     Tonga                         0   \n",
       "235              Turkmenistan                         0   \n",
       "236                    Tuvalu                         0   \n",
       "\n",
       "     Deaths - cumulative total  Population (2020)  \n",
       "1                       522469       1.382345e+09  \n",
       "2                       158063       3.313410e+08  \n",
       "3                       266398       2.740216e+08  \n",
       "4                        90275       2.216128e+08  \n",
       "5                       124797       2.128220e+08  \n",
       "..                         ...                ...  \n",
       "232                          0       1.628000e+03  \n",
       "233                          0       1.360000e+03  \n",
       "234                          0       8.010000e+02  \n",
       "235                          0                NaN  \n",
       "236                          0                NaN  \n",
       "\n",
       "[236 rows x 4 columns]"
      ],
      "text/html": "<div>\n<style scoped>\n    .dataframe tbody tr th:only-of-type {\n        vertical-align: middle;\n    }\n\n    .dataframe tbody tr th {\n        vertical-align: top;\n    }\n\n    .dataframe thead th {\n        text-align: right;\n    }\n</style>\n<table border=\"1\" class=\"dataframe\">\n  <thead>\n    <tr style=\"text-align: right;\">\n      <th></th>\n      <th>Location</th>\n      <th>Cases - cumulative total</th>\n      <th>Deaths - cumulative total</th>\n      <th>Population (2020)</th>\n    </tr>\n  </thead>\n  <tbody>\n    <tr>\n      <th>1</th>\n      <td>United States of America</td>\n      <td>28825174</td>\n      <td>522469</td>\n      <td>1.382345e+09</td>\n    </tr>\n    <tr>\n      <th>2</th>\n      <td>India</td>\n      <td>11262707</td>\n      <td>158063</td>\n      <td>3.313410e+08</td>\n    </tr>\n    <tr>\n      <th>3</th>\n      <td>Brazil</td>\n      <td>11051665</td>\n      <td>266398</td>\n      <td>2.740216e+08</td>\n    </tr>\n    <tr>\n      <th>4</th>\n      <td>Russian Federation</td>\n      <td>4351553</td>\n      <td>90275</td>\n      <td>2.216128e+08</td>\n    </tr>\n    <tr>\n      <th>5</th>\n      <td>The United Kingdom</td>\n      <td>4229002</td>\n      <td>124797</td>\n      <td>2.128220e+08</td>\n    </tr>\n    <tr>\n      <th>...</th>\n      <td>...</td>\n      <td>...</td>\n      <td>...</td>\n      <td>...</td>\n    </tr>\n    <tr>\n      <th>232</th>\n      <td>Pitcairn Islands</td>\n      <td>0</td>\n      <td>0</td>\n      <td>1.628000e+03</td>\n    </tr>\n    <tr>\n      <th>233</th>\n      <td>Tokelau</td>\n      <td>0</td>\n      <td>0</td>\n      <td>1.360000e+03</td>\n    </tr>\n    <tr>\n      <th>234</th>\n      <td>Tonga</td>\n      <td>0</td>\n      <td>0</td>\n      <td>8.010000e+02</td>\n    </tr>\n    <tr>\n      <th>235</th>\n      <td>Turkmenistan</td>\n      <td>0</td>\n      <td>0</td>\n      <td>NaN</td>\n    </tr>\n    <tr>\n      <th>236</th>\n      <td>Tuvalu</td>\n      <td>0</td>\n      <td>0</td>\n      <td>NaN</td>\n    </tr>\n  </tbody>\n</table>\n<p>236 rows × 4 columns</p>\n</div>"
     },
     "metadata": {},
     "execution_count": 361
    }
   ],
   "source": [
    "new_df"
   ]
  },
  {
   "cell_type": "code",
   "execution_count": 362,
   "metadata": {},
   "outputs": [],
   "source": [
    "import pandas as pd\n",
    "from sqlalchemy import create_engine"
   ]
  },
  {
   "cell_type": "code",
   "execution_count": 363,
   "metadata": {},
   "outputs": [
    {
     "output_type": "execute_result",
     "data": {
      "text/plain": [
       "                   location  total_cases  total_deaths  \\\n",
       "1  United States of America     28825174        522469   \n",
       "2                     India     11262707        158063   \n",
       "3                    Brazil     11051665        266398   \n",
       "4        Russian Federation      4351553         90275   \n",
       "5        The United Kingdom      4229002        124797   \n",
       "\n",
       "  transmission_classification  population_2020  \n",
       "1      Community transmission     1.382345e+09  \n",
       "2           Clusters of cases     3.313410e+08  \n",
       "3      Community transmission     2.740216e+08  \n",
       "4           Clusters of cases     2.216128e+08  \n",
       "5      Community transmission     2.128220e+08  "
      ],
      "text/html": "<div>\n<style scoped>\n    .dataframe tbody tr th:only-of-type {\n        vertical-align: middle;\n    }\n\n    .dataframe tbody tr th {\n        vertical-align: top;\n    }\n\n    .dataframe thead th {\n        text-align: right;\n    }\n</style>\n<table border=\"1\" class=\"dataframe\">\n  <thead>\n    <tr style=\"text-align: right;\">\n      <th></th>\n      <th>location</th>\n      <th>total_cases</th>\n      <th>total_deaths</th>\n      <th>transmission_classification</th>\n      <th>population_2020</th>\n    </tr>\n  </thead>\n  <tbody>\n    <tr>\n      <th>1</th>\n      <td>United States of America</td>\n      <td>28825174</td>\n      <td>522469</td>\n      <td>Community transmission</td>\n      <td>1.382345e+09</td>\n    </tr>\n    <tr>\n      <th>2</th>\n      <td>India</td>\n      <td>11262707</td>\n      <td>158063</td>\n      <td>Clusters of cases</td>\n      <td>3.313410e+08</td>\n    </tr>\n    <tr>\n      <th>3</th>\n      <td>Brazil</td>\n      <td>11051665</td>\n      <td>266398</td>\n      <td>Community transmission</td>\n      <td>2.740216e+08</td>\n    </tr>\n    <tr>\n      <th>4</th>\n      <td>Russian Federation</td>\n      <td>4351553</td>\n      <td>90275</td>\n      <td>Clusters of cases</td>\n      <td>2.216128e+08</td>\n    </tr>\n    <tr>\n      <th>5</th>\n      <td>The United Kingdom</td>\n      <td>4229002</td>\n      <td>124797</td>\n      <td>Community transmission</td>\n      <td>2.128220e+08</td>\n    </tr>\n  </tbody>\n</table>\n</div>"
     },
     "metadata": {},
     "execution_count": 363
    }
   ],
   "source": [
    "covid_data = load[[\"location\", \"total_cases\",\"total_deaths\", \"transmission_classification\", \"population_2020\"]].copy()\n",
    "covid_data.head() "
   ]
  },
  {
   "cell_type": "code",
   "execution_count": 364,
   "metadata": {},
   "outputs": [],
   "source": [
    "rds_connection_string = \"postgres:1234@localhost:5432/Covid_db\"\n",
    "engine = create_engine(f'postgresql://{rds_connection_string}')"
   ]
  },
  {
   "cell_type": "code",
   "execution_count": 365,
   "metadata": {},
   "outputs": [
    {
     "output_type": "execute_result",
     "data": {
      "text/plain": [
       "['covid_data',\n",
       " 'Location',\n",
       " 'Stringency Index',\n",
       " 'Population Density',\n",
       " 'Median Age']"
      ]
     },
     "metadata": {},
     "execution_count": 365
    }
   ],
   "source": [
    "engine.table_names()"
   ]
  },
  {
   "cell_type": "code",
   "execution_count": 367,
   "metadata": {},
   "outputs": [],
   "source": [
    "load.to_sql(name='location', con=engine, if_exists='append', index=False)"
   ]
  },
  {
   "cell_type": "code",
   "execution_count": 368,
   "metadata": {},
   "outputs": [],
   "source": [
    "load.to_sql(name='total_cases', con=engine, if_exists='append', index=False)"
   ]
  },
  {
   "cell_type": "code",
   "execution_count": 369,
   "metadata": {},
   "outputs": [],
   "source": [
    "load.to_sql(name='total_deaths', con=engine, if_exists='append', index=False)"
   ]
  },
  {
   "cell_type": "code",
   "execution_count": 370,
   "metadata": {},
   "outputs": [],
   "source": [
    "load.to_sql(name='transmission_classification', con=engine, if_exists='append', index=False)"
   ]
  },
  {
   "cell_type": "code",
   "execution_count": 371,
   "metadata": {},
   "outputs": [],
   "source": [
    "load.to_sql(name='population_2020', con=engine, if_exists='append', index=False)"
   ]
  },
  {
   "cell_type": "code",
   "execution_count": 372,
   "metadata": {},
   "outputs": [
    {
     "output_type": "execute_result",
     "data": {
      "text/plain": [
       "                   location  total_cases  total_deaths  \\\n",
       "0  United States of America     28825174        522469   \n",
       "1                     India     11262707        158063   \n",
       "2                    Brazil     11051665        266398   \n",
       "3        Russian Federation      4351553         90275   \n",
       "4        The United Kingdom      4229002        124797   \n",
       "\n",
       "  transmission_classification  population_2020  \n",
       "0      Community transmission     1.382345e+09  \n",
       "1           Clusters of cases     3.313410e+08  \n",
       "2      Community transmission     2.740216e+08  \n",
       "3           Clusters of cases     2.216128e+08  \n",
       "4      Community transmission     2.128220e+08  "
      ],
      "text/html": "<div>\n<style scoped>\n    .dataframe tbody tr th:only-of-type {\n        vertical-align: middle;\n    }\n\n    .dataframe tbody tr th {\n        vertical-align: top;\n    }\n\n    .dataframe thead th {\n        text-align: right;\n    }\n</style>\n<table border=\"1\" class=\"dataframe\">\n  <thead>\n    <tr style=\"text-align: right;\">\n      <th></th>\n      <th>location</th>\n      <th>total_cases</th>\n      <th>total_deaths</th>\n      <th>transmission_classification</th>\n      <th>population_2020</th>\n    </tr>\n  </thead>\n  <tbody>\n    <tr>\n      <th>0</th>\n      <td>United States of America</td>\n      <td>28825174</td>\n      <td>522469</td>\n      <td>Community transmission</td>\n      <td>1.382345e+09</td>\n    </tr>\n    <tr>\n      <th>1</th>\n      <td>India</td>\n      <td>11262707</td>\n      <td>158063</td>\n      <td>Clusters of cases</td>\n      <td>3.313410e+08</td>\n    </tr>\n    <tr>\n      <th>2</th>\n      <td>Brazil</td>\n      <td>11051665</td>\n      <td>266398</td>\n      <td>Community transmission</td>\n      <td>2.740216e+08</td>\n    </tr>\n    <tr>\n      <th>3</th>\n      <td>Russian Federation</td>\n      <td>4351553</td>\n      <td>90275</td>\n      <td>Clusters of cases</td>\n      <td>2.216128e+08</td>\n    </tr>\n    <tr>\n      <th>4</th>\n      <td>The United Kingdom</td>\n      <td>4229002</td>\n      <td>124797</td>\n      <td>Community transmission</td>\n      <td>2.128220e+08</td>\n    </tr>\n  </tbody>\n</table>\n</div>"
     },
     "metadata": {},
     "execution_count": 372
    }
   ],
   "source": [
    "pd.read_sql_query('select * from location', con=engine).head()"
   ]
  },
  {
   "cell_type": "code",
   "execution_count": 378,
   "metadata": {},
   "outputs": [
    {
     "output_type": "execute_result",
     "data": {
      "text/plain": [
       "             Location  Density (P/Km²)  Land Area (Km²) Med. Age Urban Pop %  \\\n",
       "0               China              153          9388211       38        61 %   \n",
       "1               India              464          2973190       28        35 %   \n",
       "2       United States               36          9147420       38        83 %   \n",
       "3           Indonesia              151          1811570       30        56 %   \n",
       "4            Pakistan              287           770880       23        35 %   \n",
       "..                ...              ...              ...      ...         ...   \n",
       "230        Montserrat               50              100     N.A.        10 %   \n",
       "231  Falkland Islands                0            12170     N.A.        66 %   \n",
       "232              Niue                6              260     N.A.        46 %   \n",
       "233           Tokelau              136               10     N.A.         0 %   \n",
       "234          Holy See             2003                0     N.A.        N.A.   \n",
       "\n",
       "    World Share  \n",
       "0       18.47 %  \n",
       "1       17.70 %  \n",
       "2        4.25 %  \n",
       "3        3.51 %  \n",
       "4        2.83 %  \n",
       "..          ...  \n",
       "230      0.00 %  \n",
       "231      0.00 %  \n",
       "232      0.00 %  \n",
       "233      0.00 %  \n",
       "234      0.00 %  \n",
       "\n",
       "[235 rows x 6 columns]"
      ],
      "text/html": "<div>\n<style scoped>\n    .dataframe tbody tr th:only-of-type {\n        vertical-align: middle;\n    }\n\n    .dataframe tbody tr th {\n        vertical-align: top;\n    }\n\n    .dataframe thead th {\n        text-align: right;\n    }\n</style>\n<table border=\"1\" class=\"dataframe\">\n  <thead>\n    <tr style=\"text-align: right;\">\n      <th></th>\n      <th>Location</th>\n      <th>Density (P/Km²)</th>\n      <th>Land Area (Km²)</th>\n      <th>Med. Age</th>\n      <th>Urban Pop %</th>\n      <th>World Share</th>\n    </tr>\n  </thead>\n  <tbody>\n    <tr>\n      <th>0</th>\n      <td>China</td>\n      <td>153</td>\n      <td>9388211</td>\n      <td>38</td>\n      <td>61 %</td>\n      <td>18.47 %</td>\n    </tr>\n    <tr>\n      <th>1</th>\n      <td>India</td>\n      <td>464</td>\n      <td>2973190</td>\n      <td>28</td>\n      <td>35 %</td>\n      <td>17.70 %</td>\n    </tr>\n    <tr>\n      <th>2</th>\n      <td>United States</td>\n      <td>36</td>\n      <td>9147420</td>\n      <td>38</td>\n      <td>83 %</td>\n      <td>4.25 %</td>\n    </tr>\n    <tr>\n      <th>3</th>\n      <td>Indonesia</td>\n      <td>151</td>\n      <td>1811570</td>\n      <td>30</td>\n      <td>56 %</td>\n      <td>3.51 %</td>\n    </tr>\n    <tr>\n      <th>4</th>\n      <td>Pakistan</td>\n      <td>287</td>\n      <td>770880</td>\n      <td>23</td>\n      <td>35 %</td>\n      <td>2.83 %</td>\n    </tr>\n    <tr>\n      <th>...</th>\n      <td>...</td>\n      <td>...</td>\n      <td>...</td>\n      <td>...</td>\n      <td>...</td>\n      <td>...</td>\n    </tr>\n    <tr>\n      <th>230</th>\n      <td>Montserrat</td>\n      <td>50</td>\n      <td>100</td>\n      <td>N.A.</td>\n      <td>10 %</td>\n      <td>0.00 %</td>\n    </tr>\n    <tr>\n      <th>231</th>\n      <td>Falkland Islands</td>\n      <td>0</td>\n      <td>12170</td>\n      <td>N.A.</td>\n      <td>66 %</td>\n      <td>0.00 %</td>\n    </tr>\n    <tr>\n      <th>232</th>\n      <td>Niue</td>\n      <td>6</td>\n      <td>260</td>\n      <td>N.A.</td>\n      <td>46 %</td>\n      <td>0.00 %</td>\n    </tr>\n    <tr>\n      <th>233</th>\n      <td>Tokelau</td>\n      <td>136</td>\n      <td>10</td>\n      <td>N.A.</td>\n      <td>0 %</td>\n      <td>0.00 %</td>\n    </tr>\n    <tr>\n      <th>234</th>\n      <td>Holy See</td>\n      <td>2003</td>\n      <td>0</td>\n      <td>N.A.</td>\n      <td>N.A.</td>\n      <td>0.00 %</td>\n    </tr>\n  </tbody>\n</table>\n<p>235 rows × 6 columns</p>\n</div>"
     },
     "metadata": {},
     "execution_count": 378
    }
   ],
   "source": [
    "population_data"
   ]
  },
  {
   "cell_type": "code",
   "execution_count": 381,
   "metadata": {},
   "outputs": [],
   "source": [
    "pop = population_data.rename(columns = {\"Location\" : \"location\", \"Density (P/Km²)\" : \"density_km\", \"Land Area (Km²)\" : \"land_area_km\", \"Med. Age\" : \"med_age\", \"Urban Pop %\" : \"urban_pop\", \"World Share\" : \"world_share\"})"
   ]
  },
  {
   "cell_type": "code",
   "execution_count": 384,
   "metadata": {},
   "outputs": [
    {
     "output_type": "execute_result",
     "data": {
      "text/plain": [
       "        location  density_km  land_area_km med_age urban_pop world_share\n",
       "0          China         153       9388211      38      61 %     18.47 %\n",
       "1          India         464       2973190      28      35 %     17.70 %\n",
       "2  United States          36       9147420      38      83 %      4.25 %\n",
       "3      Indonesia         151       1811570      30      56 %      3.51 %\n",
       "4       Pakistan         287        770880      23      35 %      2.83 %"
      ],
      "text/html": "<div>\n<style scoped>\n    .dataframe tbody tr th:only-of-type {\n        vertical-align: middle;\n    }\n\n    .dataframe tbody tr th {\n        vertical-align: top;\n    }\n\n    .dataframe thead th {\n        text-align: right;\n    }\n</style>\n<table border=\"1\" class=\"dataframe\">\n  <thead>\n    <tr style=\"text-align: right;\">\n      <th></th>\n      <th>location</th>\n      <th>density_km</th>\n      <th>land_area_km</th>\n      <th>med_age</th>\n      <th>urban_pop</th>\n      <th>world_share</th>\n    </tr>\n  </thead>\n  <tbody>\n    <tr>\n      <th>0</th>\n      <td>China</td>\n      <td>153</td>\n      <td>9388211</td>\n      <td>38</td>\n      <td>61 %</td>\n      <td>18.47 %</td>\n    </tr>\n    <tr>\n      <th>1</th>\n      <td>India</td>\n      <td>464</td>\n      <td>2973190</td>\n      <td>28</td>\n      <td>35 %</td>\n      <td>17.70 %</td>\n    </tr>\n    <tr>\n      <th>2</th>\n      <td>United States</td>\n      <td>36</td>\n      <td>9147420</td>\n      <td>38</td>\n      <td>83 %</td>\n      <td>4.25 %</td>\n    </tr>\n    <tr>\n      <th>3</th>\n      <td>Indonesia</td>\n      <td>151</td>\n      <td>1811570</td>\n      <td>30</td>\n      <td>56 %</td>\n      <td>3.51 %</td>\n    </tr>\n    <tr>\n      <th>4</th>\n      <td>Pakistan</td>\n      <td>287</td>\n      <td>770880</td>\n      <td>23</td>\n      <td>35 %</td>\n      <td>2.83 %</td>\n    </tr>\n  </tbody>\n</table>\n</div>"
     },
     "metadata": {},
     "execution_count": 384
    }
   ],
   "source": [
    "pop_data = pop[[\"location\", \"density_km\",\"land_area_km\", \"med_age\", \"urban_pop\", \"world_share\"]].copy()\n",
    "pop_data.head() "
   ]
  },
  {
   "cell_type": "code",
   "execution_count": 385,
   "metadata": {},
   "outputs": [],
   "source": [
    "rds_connection_string = \"postgres:1234@localhost:5432/Covid_db\"\n",
    "engine = create_engine(f'postgresql://{rds_connection_string}')"
   ]
  },
  {
   "cell_type": "code",
   "execution_count": 386,
   "metadata": {},
   "outputs": [
    {
     "output_type": "execute_result",
     "data": {
      "text/plain": [
       "['covid_data', 'population_data']"
      ]
     },
     "metadata": {},
     "execution_count": 386
    }
   ],
   "source": [
    "engine.table_names()"
   ]
  },
  {
   "cell_type": "code",
   "execution_count": 387,
   "metadata": {},
   "outputs": [],
   "source": [
    "pop.to_sql(name='location', con=engine, if_exists='append', index=False)"
   ]
  },
  {
   "source": [
    "pop.to_sql(name='density_km', con=engine, if_exists='append', index=False)"
   ],
   "cell_type": "code",
   "metadata": {},
   "execution_count": 388,
   "outputs": []
  },
  {
   "cell_type": "code",
   "execution_count": 389,
   "metadata": {},
   "outputs": [],
   "source": [
    "pop.to_sql(name='land_area_km', con=engine, if_exists='append', index=False)"
   ]
  },
  {
   "cell_type": "code",
   "execution_count": 390,
   "metadata": {},
   "outputs": [],
   "source": [
    "pop.to_sql(name='med_age', con=engine, if_exists='append', index=False)"
   ]
  },
  {
   "source": [
    "pop.to_sql(name='urban_pop', con=engine, if_exists='append', index=False)"
   ],
   "cell_type": "code",
   "metadata": {},
   "execution_count": 391,
   "outputs": []
  },
  {
   "cell_type": "code",
   "execution_count": 392,
   "metadata": {},
   "outputs": [],
   "source": [
    "pop.to_sql(name='world_share', con=engine, if_exists='append', index=False)"
   ]
  },
  {
   "cell_type": "code",
   "execution_count": 393,
   "metadata": {},
   "outputs": [
    {
     "output_type": "execute_result",
     "data": {
      "text/plain": [
       "        location  density_km  land_area_km med_age urban_pop world_share\n",
       "0          China         153       9388211      38      61 %     18.47 %\n",
       "1          India         464       2973190      28      35 %     17.70 %\n",
       "2  United States          36       9147420      38      83 %      4.25 %\n",
       "3      Indonesia         151       1811570      30      56 %      3.51 %\n",
       "4       Pakistan         287        770880      23      35 %      2.83 %"
      ],
      "text/html": "<div>\n<style scoped>\n    .dataframe tbody tr th:only-of-type {\n        vertical-align: middle;\n    }\n\n    .dataframe tbody tr th {\n        vertical-align: top;\n    }\n\n    .dataframe thead th {\n        text-align: right;\n    }\n</style>\n<table border=\"1\" class=\"dataframe\">\n  <thead>\n    <tr style=\"text-align: right;\">\n      <th></th>\n      <th>location</th>\n      <th>density_km</th>\n      <th>land_area_km</th>\n      <th>med_age</th>\n      <th>urban_pop</th>\n      <th>world_share</th>\n    </tr>\n  </thead>\n  <tbody>\n    <tr>\n      <th>0</th>\n      <td>China</td>\n      <td>153</td>\n      <td>9388211</td>\n      <td>38</td>\n      <td>61 %</td>\n      <td>18.47 %</td>\n    </tr>\n    <tr>\n      <th>1</th>\n      <td>India</td>\n      <td>464</td>\n      <td>2973190</td>\n      <td>28</td>\n      <td>35 %</td>\n      <td>17.70 %</td>\n    </tr>\n    <tr>\n      <th>2</th>\n      <td>United States</td>\n      <td>36</td>\n      <td>9147420</td>\n      <td>38</td>\n      <td>83 %</td>\n      <td>4.25 %</td>\n    </tr>\n    <tr>\n      <th>3</th>\n      <td>Indonesia</td>\n      <td>151</td>\n      <td>1811570</td>\n      <td>30</td>\n      <td>56 %</td>\n      <td>3.51 %</td>\n    </tr>\n    <tr>\n      <th>4</th>\n      <td>Pakistan</td>\n      <td>287</td>\n      <td>770880</td>\n      <td>23</td>\n      <td>35 %</td>\n      <td>2.83 %</td>\n    </tr>\n  </tbody>\n</table>\n</div>"
     },
     "metadata": {},
     "execution_count": 393
    }
   ],
   "source": [
    "pd.read_sql_query('select * from world_share', con=engine).head()"
   ]
  },
  {
   "cell_type": "code",
   "execution_count": null,
   "metadata": {},
   "outputs": [],
   "source": []
  }
 ]
}