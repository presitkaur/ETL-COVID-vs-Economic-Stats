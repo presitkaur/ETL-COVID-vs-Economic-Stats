{
 "metadata": {
  "language_info": {
   "codemirror_mode": {
    "name": "ipython",
    "version": 3
   },
   "file_extension": ".py",
   "mimetype": "text/x-python",
   "name": "python",
   "nbconvert_exporter": "python",
   "pygments_lexer": "ipython3",
   "version": "3.8.5-final"
  },
  "orig_nbformat": 2,
  "kernelspec": {
   "name": "python3",
   "display_name": "Python 3",
   "language": "python"
  }
 },
 "nbformat": 4,
 "nbformat_minor": 2,
 "cells": [
  {
   "cell_type": "code",
   "execution_count": 1,
   "metadata": {},
   "outputs": [],
   "source": [
    "import matplotlib.pyplot as plt \n",
    "import pandas as pd\n",
    "\n",
    "import numpy as np\n"
   ]
  },
  {
   "cell_type": "code",
   "execution_count": 3,
   "metadata": {},
   "outputs": [],
   "source": []
  },
  {
   "cell_type": "code",
   "execution_count": 89,
   "metadata": {},
   "outputs": [
    {
     "output_type": "execute_result",
     "data": {
      "text/plain": [
       "  iso_code continent     location        date  total_cases  new_cases  \\\n",
       "0      AFG      Asia  Afghanistan  24/02/2020          1.0        1.0   \n",
       "1      AFG      Asia  Afghanistan  25/02/2020          1.0        0.0   \n",
       "2      AFG      Asia  Afghanistan  26/02/2020          1.0        0.0   \n",
       "3      AFG      Asia  Afghanistan  27/02/2020          1.0        0.0   \n",
       "4      AFG      Asia  Afghanistan  28/02/2020          1.0        0.0   \n",
       "\n",
       "   new_cases_smoothed  total_deaths  new_deaths  new_deaths_smoothed  ...  \\\n",
       "0                 NaN           NaN         NaN                  NaN  ...   \n",
       "1                 NaN           NaN         NaN                  NaN  ...   \n",
       "2                 NaN           NaN         NaN                  NaN  ...   \n",
       "3                 NaN           NaN         NaN                  NaN  ...   \n",
       "4                 NaN           NaN         NaN                  NaN  ...   \n",
       "\n",
       "   gdp_per_capita  extreme_poverty  cardiovasc_death_rate  \\\n",
       "0        1803.987              NaN                597.029   \n",
       "1        1803.987              NaN                597.029   \n",
       "2        1803.987              NaN                597.029   \n",
       "3        1803.987              NaN                597.029   \n",
       "4        1803.987              NaN                597.029   \n",
       "\n",
       "   diabetes_prevalence  female_smokers  male_smokers  handwashing_facilities  \\\n",
       "0                 9.59             NaN           NaN                  37.746   \n",
       "1                 9.59             NaN           NaN                  37.746   \n",
       "2                 9.59             NaN           NaN                  37.746   \n",
       "3                 9.59             NaN           NaN                  37.746   \n",
       "4                 9.59             NaN           NaN                  37.746   \n",
       "\n",
       "   hospital_beds_per_thousand  life_expectancy  human_development_index  \n",
       "0                         0.5            64.83                    0.511  \n",
       "1                         0.5            64.83                    0.511  \n",
       "2                         0.5            64.83                    0.511  \n",
       "3                         0.5            64.83                    0.511  \n",
       "4                         0.5            64.83                    0.511  \n",
       "\n",
       "[5 rows x 59 columns]"
      ],
      "text/html": "<div>\n<style scoped>\n    .dataframe tbody tr th:only-of-type {\n        vertical-align: middle;\n    }\n\n    .dataframe tbody tr th {\n        vertical-align: top;\n    }\n\n    .dataframe thead th {\n        text-align: right;\n    }\n</style>\n<table border=\"1\" class=\"dataframe\">\n  <thead>\n    <tr style=\"text-align: right;\">\n      <th></th>\n      <th>iso_code</th>\n      <th>continent</th>\n      <th>location</th>\n      <th>date</th>\n      <th>total_cases</th>\n      <th>new_cases</th>\n      <th>new_cases_smoothed</th>\n      <th>total_deaths</th>\n      <th>new_deaths</th>\n      <th>new_deaths_smoothed</th>\n      <th>...</th>\n      <th>gdp_per_capita</th>\n      <th>extreme_poverty</th>\n      <th>cardiovasc_death_rate</th>\n      <th>diabetes_prevalence</th>\n      <th>female_smokers</th>\n      <th>male_smokers</th>\n      <th>handwashing_facilities</th>\n      <th>hospital_beds_per_thousand</th>\n      <th>life_expectancy</th>\n      <th>human_development_index</th>\n    </tr>\n  </thead>\n  <tbody>\n    <tr>\n      <th>0</th>\n      <td>AFG</td>\n      <td>Asia</td>\n      <td>Afghanistan</td>\n      <td>24/02/2020</td>\n      <td>1.0</td>\n      <td>1.0</td>\n      <td>NaN</td>\n      <td>NaN</td>\n      <td>NaN</td>\n      <td>NaN</td>\n      <td>...</td>\n      <td>1803.987</td>\n      <td>NaN</td>\n      <td>597.029</td>\n      <td>9.59</td>\n      <td>NaN</td>\n      <td>NaN</td>\n      <td>37.746</td>\n      <td>0.5</td>\n      <td>64.83</td>\n      <td>0.511</td>\n    </tr>\n    <tr>\n      <th>1</th>\n      <td>AFG</td>\n      <td>Asia</td>\n      <td>Afghanistan</td>\n      <td>25/02/2020</td>\n      <td>1.0</td>\n      <td>0.0</td>\n      <td>NaN</td>\n      <td>NaN</td>\n      <td>NaN</td>\n      <td>NaN</td>\n      <td>...</td>\n      <td>1803.987</td>\n      <td>NaN</td>\n      <td>597.029</td>\n      <td>9.59</td>\n      <td>NaN</td>\n      <td>NaN</td>\n      <td>37.746</td>\n      <td>0.5</td>\n      <td>64.83</td>\n      <td>0.511</td>\n    </tr>\n    <tr>\n      <th>2</th>\n      <td>AFG</td>\n      <td>Asia</td>\n      <td>Afghanistan</td>\n      <td>26/02/2020</td>\n      <td>1.0</td>\n      <td>0.0</td>\n      <td>NaN</td>\n      <td>NaN</td>\n      <td>NaN</td>\n      <td>NaN</td>\n      <td>...</td>\n      <td>1803.987</td>\n      <td>NaN</td>\n      <td>597.029</td>\n      <td>9.59</td>\n      <td>NaN</td>\n      <td>NaN</td>\n      <td>37.746</td>\n      <td>0.5</td>\n      <td>64.83</td>\n      <td>0.511</td>\n    </tr>\n    <tr>\n      <th>3</th>\n      <td>AFG</td>\n      <td>Asia</td>\n      <td>Afghanistan</td>\n      <td>27/02/2020</td>\n      <td>1.0</td>\n      <td>0.0</td>\n      <td>NaN</td>\n      <td>NaN</td>\n      <td>NaN</td>\n      <td>NaN</td>\n      <td>...</td>\n      <td>1803.987</td>\n      <td>NaN</td>\n      <td>597.029</td>\n      <td>9.59</td>\n      <td>NaN</td>\n      <td>NaN</td>\n      <td>37.746</td>\n      <td>0.5</td>\n      <td>64.83</td>\n      <td>0.511</td>\n    </tr>\n    <tr>\n      <th>4</th>\n      <td>AFG</td>\n      <td>Asia</td>\n      <td>Afghanistan</td>\n      <td>28/02/2020</td>\n      <td>1.0</td>\n      <td>0.0</td>\n      <td>NaN</td>\n      <td>NaN</td>\n      <td>NaN</td>\n      <td>NaN</td>\n      <td>...</td>\n      <td>1803.987</td>\n      <td>NaN</td>\n      <td>597.029</td>\n      <td>9.59</td>\n      <td>NaN</td>\n      <td>NaN</td>\n      <td>37.746</td>\n      <td>0.5</td>\n      <td>64.83</td>\n      <td>0.511</td>\n    </tr>\n  </tbody>\n</table>\n<p>5 rows × 59 columns</p>\n</div>"
     },
     "metadata": {},
     "execution_count": 89
    }
   ],
   "source": [
    "covid_data.head()"
   ]
  },
  {
   "source": [],
   "cell_type": "markdown",
   "metadata": {}
  },
  {
   "cell_type": "code",
   "execution_count": 2,
   "metadata": {},
   "outputs": [
    {
     "output_type": "error",
     "ename": "NameError",
     "evalue": "name 'covid_data' is not defined",
     "traceback": [
      "\u001b[1;31m---------------------------------------------------------------------------\u001b[0m",
      "\u001b[1;31mNameError\u001b[0m                                 Traceback (most recent call last)",
      "\u001b[1;32m<ipython-input-2-6af947134037>\u001b[0m in \u001b[0;36m<module>\u001b[1;34m\u001b[0m\n\u001b[1;32m----> 1\u001b[1;33m \u001b[0mdf\u001b[0m \u001b[1;33m=\u001b[0m \u001b[0mpd\u001b[0m\u001b[1;33m.\u001b[0m\u001b[0mDataFrame\u001b[0m\u001b[1;33m(\u001b[0m\u001b[0mcovid_data\u001b[0m\u001b[1;33m)\u001b[0m\u001b[1;33m\u001b[0m\u001b[1;33m\u001b[0m\u001b[0m\n\u001b[0m",
      "\u001b[1;31mNameError\u001b[0m: name 'covid_data' is not defined"
     ]
    }
   ],
   "source": [
    "df = pd.DataFrame(covid_data)"
   ]
  },
  {
   "cell_type": "code",
   "execution_count": 92,
   "metadata": {},
   "outputs": [
    {
     "output_type": "execute_result",
     "data": {
      "text/plain": [
       "          location  stringency_index  population_density  median_age  \\\n",
       "0      Afghanistan              8.33              54.422        18.6   \n",
       "1      Afghanistan              8.33              54.422        18.6   \n",
       "2      Afghanistan              8.33              54.422        18.6   \n",
       "3      Afghanistan              8.33              54.422        18.6   \n",
       "4      Afghanistan              8.33              54.422        18.6   \n",
       "...            ...               ...                 ...         ...   \n",
       "73988     Zimbabwe             35.19              42.729        19.6   \n",
       "73989     Zimbabwe             35.19              42.729        19.6   \n",
       "73990     Zimbabwe             35.19              42.729        19.6   \n",
       "73991     Zimbabwe               NaN              42.729        19.6   \n",
       "73992     Zimbabwe               NaN              42.729        19.6   \n",
       "\n",
       "       aged_65_older  aged_70_older  gdp_per_capita  extreme_poverty  \\\n",
       "0              2.581          1.337        1803.987              NaN   \n",
       "1              2.581          1.337        1803.987              NaN   \n",
       "2              2.581          1.337        1803.987              NaN   \n",
       "3              2.581          1.337        1803.987              NaN   \n",
       "4              2.581          1.337        1803.987              NaN   \n",
       "...              ...            ...             ...              ...   \n",
       "73988          2.822          1.882        1899.775             21.4   \n",
       "73989          2.822          1.882        1899.775             21.4   \n",
       "73990          2.822          1.882        1899.775             21.4   \n",
       "73991          2.822          1.882        1899.775             21.4   \n",
       "73992          2.822          1.882        1899.775             21.4   \n",
       "\n",
       "       cardiovasc_death_rate  diabetes_prevalence  handwashing_facilities  \\\n",
       "0                    597.029                 9.59                  37.746   \n",
       "1                    597.029                 9.59                  37.746   \n",
       "2                    597.029                 9.59                  37.746   \n",
       "3                    597.029                 9.59                  37.746   \n",
       "4                    597.029                 9.59                  37.746   \n",
       "...                      ...                  ...                     ...   \n",
       "73988                307.846                 1.82                  36.791   \n",
       "73989                307.846                 1.82                  36.791   \n",
       "73990                307.846                 1.82                  36.791   \n",
       "73991                307.846                 1.82                  36.791   \n",
       "73992                307.846                 1.82                  36.791   \n",
       "\n",
       "       hospital_beds_per_thousand  life_expectancy  human_development_index  \n",
       "0                             0.5            64.83                    0.511  \n",
       "1                             0.5            64.83                    0.511  \n",
       "2                             0.5            64.83                    0.511  \n",
       "3                             0.5            64.83                    0.511  \n",
       "4                             0.5            64.83                    0.511  \n",
       "...                           ...              ...                      ...  \n",
       "73988                         1.7            61.49                    0.571  \n",
       "73989                         1.7            61.49                    0.571  \n",
       "73990                         1.7            61.49                    0.571  \n",
       "73991                         1.7            61.49                    0.571  \n",
       "73992                         1.7            61.49                    0.571  \n",
       "\n",
       "[73993 rows x 14 columns]"
      ],
      "text/html": "<div>\n<style scoped>\n    .dataframe tbody tr th:only-of-type {\n        vertical-align: middle;\n    }\n\n    .dataframe tbody tr th {\n        vertical-align: top;\n    }\n\n    .dataframe thead th {\n        text-align: right;\n    }\n</style>\n<table border=\"1\" class=\"dataframe\">\n  <thead>\n    <tr style=\"text-align: right;\">\n      <th></th>\n      <th>location</th>\n      <th>stringency_index</th>\n      <th>population_density</th>\n      <th>median_age</th>\n      <th>aged_65_older</th>\n      <th>aged_70_older</th>\n      <th>gdp_per_capita</th>\n      <th>extreme_poverty</th>\n      <th>cardiovasc_death_rate</th>\n      <th>diabetes_prevalence</th>\n      <th>handwashing_facilities</th>\n      <th>hospital_beds_per_thousand</th>\n      <th>life_expectancy</th>\n      <th>human_development_index</th>\n    </tr>\n  </thead>\n  <tbody>\n    <tr>\n      <th>0</th>\n      <td>Afghanistan</td>\n      <td>8.33</td>\n      <td>54.422</td>\n      <td>18.6</td>\n      <td>2.581</td>\n      <td>1.337</td>\n      <td>1803.987</td>\n      <td>NaN</td>\n      <td>597.029</td>\n      <td>9.59</td>\n      <td>37.746</td>\n      <td>0.5</td>\n      <td>64.83</td>\n      <td>0.511</td>\n    </tr>\n    <tr>\n      <th>1</th>\n      <td>Afghanistan</td>\n      <td>8.33</td>\n      <td>54.422</td>\n      <td>18.6</td>\n      <td>2.581</td>\n      <td>1.337</td>\n      <td>1803.987</td>\n      <td>NaN</td>\n      <td>597.029</td>\n      <td>9.59</td>\n      <td>37.746</td>\n      <td>0.5</td>\n      <td>64.83</td>\n      <td>0.511</td>\n    </tr>\n    <tr>\n      <th>2</th>\n      <td>Afghanistan</td>\n      <td>8.33</td>\n      <td>54.422</td>\n      <td>18.6</td>\n      <td>2.581</td>\n      <td>1.337</td>\n      <td>1803.987</td>\n      <td>NaN</td>\n      <td>597.029</td>\n      <td>9.59</td>\n      <td>37.746</td>\n      <td>0.5</td>\n      <td>64.83</td>\n      <td>0.511</td>\n    </tr>\n    <tr>\n      <th>3</th>\n      <td>Afghanistan</td>\n      <td>8.33</td>\n      <td>54.422</td>\n      <td>18.6</td>\n      <td>2.581</td>\n      <td>1.337</td>\n      <td>1803.987</td>\n      <td>NaN</td>\n      <td>597.029</td>\n      <td>9.59</td>\n      <td>37.746</td>\n      <td>0.5</td>\n      <td>64.83</td>\n      <td>0.511</td>\n    </tr>\n    <tr>\n      <th>4</th>\n      <td>Afghanistan</td>\n      <td>8.33</td>\n      <td>54.422</td>\n      <td>18.6</td>\n      <td>2.581</td>\n      <td>1.337</td>\n      <td>1803.987</td>\n      <td>NaN</td>\n      <td>597.029</td>\n      <td>9.59</td>\n      <td>37.746</td>\n      <td>0.5</td>\n      <td>64.83</td>\n      <td>0.511</td>\n    </tr>\n    <tr>\n      <th>...</th>\n      <td>...</td>\n      <td>...</td>\n      <td>...</td>\n      <td>...</td>\n      <td>...</td>\n      <td>...</td>\n      <td>...</td>\n      <td>...</td>\n      <td>...</td>\n      <td>...</td>\n      <td>...</td>\n      <td>...</td>\n      <td>...</td>\n      <td>...</td>\n    </tr>\n    <tr>\n      <th>73988</th>\n      <td>Zimbabwe</td>\n      <td>35.19</td>\n      <td>42.729</td>\n      <td>19.6</td>\n      <td>2.822</td>\n      <td>1.882</td>\n      <td>1899.775</td>\n      <td>21.4</td>\n      <td>307.846</td>\n      <td>1.82</td>\n      <td>36.791</td>\n      <td>1.7</td>\n      <td>61.49</td>\n      <td>0.571</td>\n    </tr>\n    <tr>\n      <th>73989</th>\n      <td>Zimbabwe</td>\n      <td>35.19</td>\n      <td>42.729</td>\n      <td>19.6</td>\n      <td>2.822</td>\n      <td>1.882</td>\n      <td>1899.775</td>\n      <td>21.4</td>\n      <td>307.846</td>\n      <td>1.82</td>\n      <td>36.791</td>\n      <td>1.7</td>\n      <td>61.49</td>\n      <td>0.571</td>\n    </tr>\n    <tr>\n      <th>73990</th>\n      <td>Zimbabwe</td>\n      <td>35.19</td>\n      <td>42.729</td>\n      <td>19.6</td>\n      <td>2.822</td>\n      <td>1.882</td>\n      <td>1899.775</td>\n      <td>21.4</td>\n      <td>307.846</td>\n      <td>1.82</td>\n      <td>36.791</td>\n      <td>1.7</td>\n      <td>61.49</td>\n      <td>0.571</td>\n    </tr>\n    <tr>\n      <th>73991</th>\n      <td>Zimbabwe</td>\n      <td>NaN</td>\n      <td>42.729</td>\n      <td>19.6</td>\n      <td>2.822</td>\n      <td>1.882</td>\n      <td>1899.775</td>\n      <td>21.4</td>\n      <td>307.846</td>\n      <td>1.82</td>\n      <td>36.791</td>\n      <td>1.7</td>\n      <td>61.49</td>\n      <td>0.571</td>\n    </tr>\n    <tr>\n      <th>73992</th>\n      <td>Zimbabwe</td>\n      <td>NaN</td>\n      <td>42.729</td>\n      <td>19.6</td>\n      <td>2.822</td>\n      <td>1.882</td>\n      <td>1899.775</td>\n      <td>21.4</td>\n      <td>307.846</td>\n      <td>1.82</td>\n      <td>36.791</td>\n      <td>1.7</td>\n      <td>61.49</td>\n      <td>0.571</td>\n    </tr>\n  </tbody>\n</table>\n<p>73993 rows × 14 columns</p>\n</div>"
     },
     "metadata": {},
     "execution_count": 92
    }
   ],
   "source": [
    "df = df.drop(columns=['iso_code', 'continent', 'date', 'total_cases', 'new_cases', 'new_cases_smoothed','total_deaths', 'new_deaths','new_deaths_smoothed', 'total_cases_per_million', 'new_c,ases_per_million', 'new_cases_smoothed_per_million', 'total_deaths_per_million','new_deaths_per_million', 'new_deaths_smoothed_per_million', 'reproduction_rate', 'icu_patients', 'icu_patients_per_million', 'hosp_patients', 'hosp_patients_per_million', 'weekly_icu_admissions', 'weekly_icu_admissions_per_million', 'weekly_hosp_admissions','weekly_hosp_admissions_per_million', 'new_tests', 'total_tests', 'total_tests_per_thousand', 'new_tests_smoothed', 'new_tests_smoothed_per_thousand', 'positive_rate', 'tests_per_case', 'new_tests_per_thousand', 'tests_units', 'total_vaccinations', 'people_vaccinated', 'people_vaccinated_per_hundred', 'people_fully_vaccinated', 'new_vaccinations', 'people_fully_vaccinated_per_hundred', 'female_smokers','male_smokers', 'new_vaccinations_smoothed', 'total_vaccinations_per_hundred', 'new_vaccinations_smoothed_per_million', 'population'])\n",
    "df"
   ]
  },
  {
   "cell_type": "code",
   "execution_count": 117,
   "metadata": {},
   "outputs": [
    {
     "output_type": "execute_result",
     "data": {
      "text/plain": [
       "             Stringency Index  Population Density  Median Age  \\\n",
       "location                                                        \n",
       "Afghanistan         41.886694              54.422        18.6   \n",
       "Africa                    NaN                 NaN         NaN   \n",
       "Albania             63.921617             104.871        38.0   \n",
       "Algeria             70.942642              17.348        29.1   \n",
       "Andorra             47.457068             163.755         NaN   \n",
       "...                       ...                 ...         ...   \n",
       "Vietnam             61.129332             308.127        32.6   \n",
       "World                     NaN              58.045        30.9   \n",
       "Yemen               34.253453              53.508        20.3   \n",
       "Zambia              46.804551              22.995        17.7   \n",
       "Zimbabwe            76.532853              42.729        19.6   \n",
       "\n",
       "             Aged 65 and Older  Aged 70 and Older  GDP Per Capita  \\\n",
       "location                                                            \n",
       "Afghanistan              2.581              1.337        1803.987   \n",
       "Africa                     NaN                NaN             NaN   \n",
       "Albania                 13.188              8.643       11803.431   \n",
       "Algeria                  6.211              3.857       13913.839   \n",
       "Andorra                    NaN                NaN             NaN   \n",
       "...                        ...                ...             ...   \n",
       "Vietnam                  7.150              4.718        6171.884   \n",
       "World                    8.696              5.355       15469.207   \n",
       "Yemen                    2.922              1.583        1479.147   \n",
       "Zambia                   2.480              1.542        3689.251   \n",
       "Zimbabwe                 2.822              1.882        1899.775   \n",
       "\n",
       "             Extreme Poverty  Cardiovascular Death Rate  Diabetes Prevalence  \\\n",
       "location                                                                       \n",
       "Afghanistan              NaN                    597.029                 9.59   \n",
       "Africa                   NaN                        NaN                  NaN   \n",
       "Albania                  1.1                    304.195                10.08   \n",
       "Algeria                  0.5                    278.364                 6.73   \n",
       "Andorra                  NaN                    109.135                 7.97   \n",
       "...                      ...                        ...                  ...   \n",
       "Vietnam                  2.0                    245.465                 6.00   \n",
       "World                   10.0                    233.070                 8.51   \n",
       "Yemen                   18.8                    495.003                 5.35   \n",
       "Zambia                  57.5                    234.499                 3.94   \n",
       "Zimbabwe                21.4                    307.846                 1.82   \n",
       "\n",
       "             Handwashing Facilities  Hospital Beds Per Thousand  \\\n",
       "location                                                          \n",
       "Afghanistan                  37.746                       0.500   \n",
       "Africa                          NaN                         NaN   \n",
       "Albania                         NaN                       2.890   \n",
       "Algeria                      83.741                       1.900   \n",
       "Andorra                         NaN                         NaN   \n",
       "...                             ...                         ...   \n",
       "Vietnam                      85.847                       2.600   \n",
       "World                        60.130                       2.705   \n",
       "Yemen                        49.542                       0.700   \n",
       "Zambia                       13.938                       2.000   \n",
       "Zimbabwe                     36.791                       1.700   \n",
       "\n",
       "             Life Expectancy  Human Development Index  \n",
       "location                                               \n",
       "Afghanistan            64.83                    0.511  \n",
       "Africa                   NaN                      NaN  \n",
       "Albania                78.57                    0.795  \n",
       "Algeria                76.88                    0.748  \n",
       "Andorra                83.73                    0.868  \n",
       "...                      ...                      ...  \n",
       "Vietnam                75.40                    0.704  \n",
       "World                  72.58                    0.737  \n",
       "Yemen                  66.12                    0.470  \n",
       "Zambia                 63.89                    0.584  \n",
       "Zimbabwe               61.49                    0.571  \n",
       "\n",
       "[215 rows x 13 columns]"
      ],
      "text/html": "<div>\n<style scoped>\n    .dataframe tbody tr th:only-of-type {\n        vertical-align: middle;\n    }\n\n    .dataframe tbody tr th {\n        vertical-align: top;\n    }\n\n    .dataframe thead th {\n        text-align: right;\n    }\n</style>\n<table border=\"1\" class=\"dataframe\">\n  <thead>\n    <tr style=\"text-align: right;\">\n      <th></th>\n      <th>Stringency Index</th>\n      <th>Population Density</th>\n      <th>Median Age</th>\n      <th>Aged 65 and Older</th>\n      <th>Aged 70 and Older</th>\n      <th>GDP Per Capita</th>\n      <th>Extreme Poverty</th>\n      <th>Cardiovascular Death Rate</th>\n      <th>Diabetes Prevalence</th>\n      <th>Handwashing Facilities</th>\n      <th>Hospital Beds Per Thousand</th>\n      <th>Life Expectancy</th>\n      <th>Human Development Index</th>\n    </tr>\n    <tr>\n      <th>location</th>\n      <th></th>\n      <th></th>\n      <th></th>\n      <th></th>\n      <th></th>\n      <th></th>\n      <th></th>\n      <th></th>\n      <th></th>\n      <th></th>\n      <th></th>\n      <th></th>\n      <th></th>\n    </tr>\n  </thead>\n  <tbody>\n    <tr>\n      <th>Afghanistan</th>\n      <td>41.886694</td>\n      <td>54.422</td>\n      <td>18.6</td>\n      <td>2.581</td>\n      <td>1.337</td>\n      <td>1803.987</td>\n      <td>NaN</td>\n      <td>597.029</td>\n      <td>9.59</td>\n      <td>37.746</td>\n      <td>0.500</td>\n      <td>64.83</td>\n      <td>0.511</td>\n    </tr>\n    <tr>\n      <th>Africa</th>\n      <td>NaN</td>\n      <td>NaN</td>\n      <td>NaN</td>\n      <td>NaN</td>\n      <td>NaN</td>\n      <td>NaN</td>\n      <td>NaN</td>\n      <td>NaN</td>\n      <td>NaN</td>\n      <td>NaN</td>\n      <td>NaN</td>\n      <td>NaN</td>\n      <td>NaN</td>\n    </tr>\n    <tr>\n      <th>Albania</th>\n      <td>63.921617</td>\n      <td>104.871</td>\n      <td>38.0</td>\n      <td>13.188</td>\n      <td>8.643</td>\n      <td>11803.431</td>\n      <td>1.1</td>\n      <td>304.195</td>\n      <td>10.08</td>\n      <td>NaN</td>\n      <td>2.890</td>\n      <td>78.57</td>\n      <td>0.795</td>\n    </tr>\n    <tr>\n      <th>Algeria</th>\n      <td>70.942642</td>\n      <td>17.348</td>\n      <td>29.1</td>\n      <td>6.211</td>\n      <td>3.857</td>\n      <td>13913.839</td>\n      <td>0.5</td>\n      <td>278.364</td>\n      <td>6.73</td>\n      <td>83.741</td>\n      <td>1.900</td>\n      <td>76.88</td>\n      <td>0.748</td>\n    </tr>\n    <tr>\n      <th>Andorra</th>\n      <td>47.457068</td>\n      <td>163.755</td>\n      <td>NaN</td>\n      <td>NaN</td>\n      <td>NaN</td>\n      <td>NaN</td>\n      <td>NaN</td>\n      <td>109.135</td>\n      <td>7.97</td>\n      <td>NaN</td>\n      <td>NaN</td>\n      <td>83.73</td>\n      <td>0.868</td>\n    </tr>\n    <tr>\n      <th>...</th>\n      <td>...</td>\n      <td>...</td>\n      <td>...</td>\n      <td>...</td>\n      <td>...</td>\n      <td>...</td>\n      <td>...</td>\n      <td>...</td>\n      <td>...</td>\n      <td>...</td>\n      <td>...</td>\n      <td>...</td>\n      <td>...</td>\n    </tr>\n    <tr>\n      <th>Vietnam</th>\n      <td>61.129332</td>\n      <td>308.127</td>\n      <td>32.6</td>\n      <td>7.150</td>\n      <td>4.718</td>\n      <td>6171.884</td>\n      <td>2.0</td>\n      <td>245.465</td>\n      <td>6.00</td>\n      <td>85.847</td>\n      <td>2.600</td>\n      <td>75.40</td>\n      <td>0.704</td>\n    </tr>\n    <tr>\n      <th>World</th>\n      <td>NaN</td>\n      <td>58.045</td>\n      <td>30.9</td>\n      <td>8.696</td>\n      <td>5.355</td>\n      <td>15469.207</td>\n      <td>10.0</td>\n      <td>233.070</td>\n      <td>8.51</td>\n      <td>60.130</td>\n      <td>2.705</td>\n      <td>72.58</td>\n      <td>0.737</td>\n    </tr>\n    <tr>\n      <th>Yemen</th>\n      <td>34.253453</td>\n      <td>53.508</td>\n      <td>20.3</td>\n      <td>2.922</td>\n      <td>1.583</td>\n      <td>1479.147</td>\n      <td>18.8</td>\n      <td>495.003</td>\n      <td>5.35</td>\n      <td>49.542</td>\n      <td>0.700</td>\n      <td>66.12</td>\n      <td>0.470</td>\n    </tr>\n    <tr>\n      <th>Zambia</th>\n      <td>46.804551</td>\n      <td>22.995</td>\n      <td>17.7</td>\n      <td>2.480</td>\n      <td>1.542</td>\n      <td>3689.251</td>\n      <td>57.5</td>\n      <td>234.499</td>\n      <td>3.94</td>\n      <td>13.938</td>\n      <td>2.000</td>\n      <td>63.89</td>\n      <td>0.584</td>\n    </tr>\n    <tr>\n      <th>Zimbabwe</th>\n      <td>76.532853</td>\n      <td>42.729</td>\n      <td>19.6</td>\n      <td>2.822</td>\n      <td>1.882</td>\n      <td>1899.775</td>\n      <td>21.4</td>\n      <td>307.846</td>\n      <td>1.82</td>\n      <td>36.791</td>\n      <td>1.700</td>\n      <td>61.49</td>\n      <td>0.571</td>\n    </tr>\n  </tbody>\n</table>\n<p>215 rows × 13 columns</p>\n</div>"
     },
     "metadata": {},
     "execution_count": 117
    }
   ],
   "source": [
    "grouped_df = df.groupby(['location'])\n",
    "test = grouped_df.mean()\n",
    "test"
   ]
  },
  {
   "cell_type": "code",
   "execution_count": 176,
   "metadata": {},
   "outputs": [],
   "source": [
    "test_new =test.reset_index()"
   ]
  },
  {
   "cell_type": "code",
   "execution_count": 177,
   "metadata": {},
   "outputs": [
    {
     "output_type": "execute_result",
     "data": {
      "text/plain": [
       "    location    Stringency Index  Population Density  Median Age  \\\n",
       "0  Afghanistan      41.886694            54.422          18.6      \n",
       "1       Africa            NaN               NaN           NaN      \n",
       "2      Albania      63.921617           104.871          38.0      \n",
       "3      Algeria      70.942642            17.348          29.1      \n",
       "4      Andorra      47.457068           163.755           NaN      \n",
       "\n",
       "   Aged 65 and Older  Aged 70 and Older  GDP Per Capita  Extreme Poverty  \\\n",
       "0        2.581              1.337            1803.987          NaN         \n",
       "1          NaN                NaN                 NaN          NaN         \n",
       "2       13.188              8.643           11803.431          1.1         \n",
       "3        6.211              3.857           13913.839          0.5         \n",
       "4          NaN                NaN                 NaN          NaN         \n",
       "\n",
       "   Cardiovascular Death Rate  Diabetes Prevalence  Handwashing Facilities  \\\n",
       "0           597.029                   9.59                 37.746           \n",
       "1               NaN                    NaN                    NaN           \n",
       "2           304.195                  10.08                    NaN           \n",
       "3           278.364                   6.73                 83.741           \n",
       "4           109.135                   7.97                    NaN           \n",
       "\n",
       "   Hospital Beds Per Thousand  Life Expectancy  Human Development Index  \n",
       "0             0.50                  64.83                0.511           \n",
       "1              NaN                    NaN                  NaN           \n",
       "2             2.89                  78.57                0.795           \n",
       "3             1.90                  76.88                0.748           \n",
       "4              NaN                  83.73                0.868           "
      ],
      "text/html": "<div>\n<style scoped>\n    .dataframe tbody tr th:only-of-type {\n        vertical-align: middle;\n    }\n\n    .dataframe tbody tr th {\n        vertical-align: top;\n    }\n\n    .dataframe thead th {\n        text-align: right;\n    }\n</style>\n<table border=\"1\" class=\"dataframe\">\n  <thead>\n    <tr style=\"text-align: center;\">\n      <th></th>\n      <th>location</th>\n      <th>Stringency Index</th>\n      <th>Population Density</th>\n      <th>Median Age</th>\n      <th>Aged 65 and Older</th>\n      <th>Aged 70 and Older</th>\n      <th>GDP Per Capita</th>\n      <th>Extreme Poverty</th>\n      <th>Cardiovascular Death Rate</th>\n      <th>Diabetes Prevalence</th>\n      <th>Handwashing Facilities</th>\n      <th>Hospital Beds Per Thousand</th>\n      <th>Life Expectancy</th>\n      <th>Human Development Index</th>\n    </tr>\n  </thead>\n  <tbody>\n    <tr>\n      <th>0</th>\n      <td>Afghanistan</td>\n      <td>41.886694</td>\n      <td>54.422</td>\n      <td>18.6</td>\n      <td>2.581</td>\n      <td>1.337</td>\n      <td>1803.987</td>\n      <td>NaN</td>\n      <td>597.029</td>\n      <td>9.59</td>\n      <td>37.746</td>\n      <td>0.50</td>\n      <td>64.83</td>\n      <td>0.511</td>\n    </tr>\n    <tr>\n      <th>1</th>\n      <td>Africa</td>\n      <td>NaN</td>\n      <td>NaN</td>\n      <td>NaN</td>\n      <td>NaN</td>\n      <td>NaN</td>\n      <td>NaN</td>\n      <td>NaN</td>\n      <td>NaN</td>\n      <td>NaN</td>\n      <td>NaN</td>\n      <td>NaN</td>\n      <td>NaN</td>\n      <td>NaN</td>\n    </tr>\n    <tr>\n      <th>2</th>\n      <td>Albania</td>\n      <td>63.921617</td>\n      <td>104.871</td>\n      <td>38.0</td>\n      <td>13.188</td>\n      <td>8.643</td>\n      <td>11803.431</td>\n      <td>1.1</td>\n      <td>304.195</td>\n      <td>10.08</td>\n      <td>NaN</td>\n      <td>2.89</td>\n      <td>78.57</td>\n      <td>0.795</td>\n    </tr>\n    <tr>\n      <th>3</th>\n      <td>Algeria</td>\n      <td>70.942642</td>\n      <td>17.348</td>\n      <td>29.1</td>\n      <td>6.211</td>\n      <td>3.857</td>\n      <td>13913.839</td>\n      <td>0.5</td>\n      <td>278.364</td>\n      <td>6.73</td>\n      <td>83.741</td>\n      <td>1.90</td>\n      <td>76.88</td>\n      <td>0.748</td>\n    </tr>\n    <tr>\n      <th>4</th>\n      <td>Andorra</td>\n      <td>47.457068</td>\n      <td>163.755</td>\n      <td>NaN</td>\n      <td>NaN</td>\n      <td>NaN</td>\n      <td>NaN</td>\n      <td>NaN</td>\n      <td>109.135</td>\n      <td>7.97</td>\n      <td>NaN</td>\n      <td>NaN</td>\n      <td>83.73</td>\n      <td>0.868</td>\n    </tr>\n  </tbody>\n</table>\n</div>"
     },
     "metadata": {},
     "execution_count": 177
    }
   ],
   "source": [
    "test_new.head()"
   ]
  },
  {
   "cell_type": "code",
   "execution_count": 203,
   "metadata": {},
   "outputs": [],
   "source": [
    "test_df = test_new.rename(columns={\n",
    "    \"location\": \"location\",\n",
    "    \"Stringency Index\": \"stringency_index\", \n",
    "    \"Population Density\": \"population_density\",\n",
    "    \"Median Age\": \"median_age\",\n",
    "    \"Aged 65 and Older\": \"aged_65_and_older\",\n",
    "    \"Aged 70 and Older\": \"aged_70_and_older\",\n",
    "    \"GDP Per Capita\": \"gdp_per_capita\",\n",
    "    \"Extreme Poverty\": \"extreme_poverty\",\n",
    "    \"Cardiovascular Death Rate\": \"cardiovascular_death_rate\",\n",
    "    \"Diabetes Prevalence\": \"diabetes_prevalence\", \n",
    "    \"Handwashing Facilities\": \"handwashing_facilities\",\n",
    "    \"Hospital Beds Per Thousand\": \"hospital_beds_per_thousand\",\n",
    "    \"Life Expectancy\": \"life_expectancy\",\n",
    "    \"Human Development Index\": \"human_development_index\",  \n",
    "})\n",
    "\n",
    "test_df\n",
    "\n",
    "test_df.to_csv(\"load/economic-data.csv\", index=False, header=True)"
   ]
  },
  {
   "cell_type": "code",
   "execution_count": 204,
   "metadata": {},
   "outputs": [
    {
     "output_type": "execute_result",
     "data": {
      "text/plain": [
       "    location    stringency_index  population_density  median_age  \\\n",
       "0  Afghanistan      41.886694            54.422          18.6      \n",
       "1       Africa            NaN               NaN           NaN      \n",
       "2      Albania      63.921617           104.871          38.0      \n",
       "3      Algeria      70.942642            17.348          29.1      \n",
       "4      Andorra      47.457068           163.755           NaN      \n",
       "\n",
       "   aged_65_and_older  aged_70_and_older  gdp_per_capita  extreme_poverty  \\\n",
       "0        2.581              1.337            1803.987          NaN         \n",
       "1          NaN                NaN                 NaN          NaN         \n",
       "2       13.188              8.643           11803.431          1.1         \n",
       "3        6.211              3.857           13913.839          0.5         \n",
       "4          NaN                NaN                 NaN          NaN         \n",
       "\n",
       "   cardiovascular_death_rate  diabetes_prevalence  handwashing_facilities  \\\n",
       "0           597.029                   9.59                 37.746           \n",
       "1               NaN                    NaN                    NaN           \n",
       "2           304.195                  10.08                    NaN           \n",
       "3           278.364                   6.73                 83.741           \n",
       "4           109.135                   7.97                    NaN           \n",
       "\n",
       "   hospital_beds_per_thousand  life_expectancy  human_development_index  \n",
       "0             0.50                  64.83                0.511           \n",
       "1              NaN                    NaN                  NaN           \n",
       "2             2.89                  78.57                0.795           \n",
       "3             1.90                  76.88                0.748           \n",
       "4              NaN                  83.73                0.868           "
      ],
      "text/html": "<div>\n<style scoped>\n    .dataframe tbody tr th:only-of-type {\n        vertical-align: middle;\n    }\n\n    .dataframe tbody tr th {\n        vertical-align: top;\n    }\n\n    .dataframe thead th {\n        text-align: right;\n    }\n</style>\n<table border=\"1\" class=\"dataframe\">\n  <thead>\n    <tr style=\"text-align: center;\">\n      <th></th>\n      <th>location</th>\n      <th>stringency_index</th>\n      <th>population_density</th>\n      <th>median_age</th>\n      <th>aged_65_and_older</th>\n      <th>aged_70_and_older</th>\n      <th>gdp_per_capita</th>\n      <th>extreme_poverty</th>\n      <th>cardiovascular_death_rate</th>\n      <th>diabetes_prevalence</th>\n      <th>handwashing_facilities</th>\n      <th>hospital_beds_per_thousand</th>\n      <th>life_expectancy</th>\n      <th>human_development_index</th>\n    </tr>\n  </thead>\n  <tbody>\n    <tr>\n      <th>0</th>\n      <td>Afghanistan</td>\n      <td>41.886694</td>\n      <td>54.422</td>\n      <td>18.6</td>\n      <td>2.581</td>\n      <td>1.337</td>\n      <td>1803.987</td>\n      <td>NaN</td>\n      <td>597.029</td>\n      <td>9.59</td>\n      <td>37.746</td>\n      <td>0.50</td>\n      <td>64.83</td>\n      <td>0.511</td>\n    </tr>\n    <tr>\n      <th>1</th>\n      <td>Africa</td>\n      <td>NaN</td>\n      <td>NaN</td>\n      <td>NaN</td>\n      <td>NaN</td>\n      <td>NaN</td>\n      <td>NaN</td>\n      <td>NaN</td>\n      <td>NaN</td>\n      <td>NaN</td>\n      <td>NaN</td>\n      <td>NaN</td>\n      <td>NaN</td>\n      <td>NaN</td>\n    </tr>\n    <tr>\n      <th>2</th>\n      <td>Albania</td>\n      <td>63.921617</td>\n      <td>104.871</td>\n      <td>38.0</td>\n      <td>13.188</td>\n      <td>8.643</td>\n      <td>11803.431</td>\n      <td>1.1</td>\n      <td>304.195</td>\n      <td>10.08</td>\n      <td>NaN</td>\n      <td>2.89</td>\n      <td>78.57</td>\n      <td>0.795</td>\n    </tr>\n    <tr>\n      <th>3</th>\n      <td>Algeria</td>\n      <td>70.942642</td>\n      <td>17.348</td>\n      <td>29.1</td>\n      <td>6.211</td>\n      <td>3.857</td>\n      <td>13913.839</td>\n      <td>0.5</td>\n      <td>278.364</td>\n      <td>6.73</td>\n      <td>83.741</td>\n      <td>1.90</td>\n      <td>76.88</td>\n      <td>0.748</td>\n    </tr>\n    <tr>\n      <th>4</th>\n      <td>Andorra</td>\n      <td>47.457068</td>\n      <td>163.755</td>\n      <td>NaN</td>\n      <td>NaN</td>\n      <td>NaN</td>\n      <td>NaN</td>\n      <td>NaN</td>\n      <td>109.135</td>\n      <td>7.97</td>\n      <td>NaN</td>\n      <td>NaN</td>\n      <td>83.73</td>\n      <td>0.868</td>\n    </tr>\n  </tbody>\n</table>\n</div>"
     },
     "metadata": {},
     "execution_count": 204
    }
   ],
   "source": [
    "test_df.head()"
   ]
  },
  {
   "cell_type": "code",
   "execution_count": 258,
   "metadata": {},
   "outputs": [],
   "source": [
    "import pandas as pd\n",
    "from sqlalchemy import create_engine"
   ]
  },
  {
   "cell_type": "code",
   "execution_count": 307,
   "metadata": {},
   "outputs": [
    {
     "output_type": "execute_result",
     "data": {
      "text/plain": [
       "    location    stringency_index  population_density  median_age  \\\n",
       "0  Afghanistan      41.886694            54.422          18.6      \n",
       "1       Africa            NaN               NaN           NaN      \n",
       "2      Albania      63.921617           104.871          38.0      \n",
       "3      Algeria      70.942642            17.348          29.1      \n",
       "4      Andorra      47.457068           163.755           NaN      \n",
       "\n",
       "   aged_65_and_older  aged_70_and_older  gdp_per_capita  extreme_poverty  \\\n",
       "0        2.581              1.337            1803.987          NaN         \n",
       "1          NaN                NaN                 NaN          NaN         \n",
       "2       13.188              8.643           11803.431          1.1         \n",
       "3        6.211              3.857           13913.839          0.5         \n",
       "4          NaN                NaN                 NaN          NaN         \n",
       "\n",
       "   cardiovascular_death_rate  diabetes_prevalence  handwashing_facilities  \\\n",
       "0           597.029                   9.59                 37.746           \n",
       "1               NaN                    NaN                    NaN           \n",
       "2           304.195                  10.08                    NaN           \n",
       "3           278.364                   6.73                 83.741           \n",
       "4           109.135                   7.97                    NaN           \n",
       "\n",
       "   hospital_beds_per_thousand  life_expectancy  human_development_index  \n",
       "0             0.50                  64.83                0.511           \n",
       "1              NaN                    NaN                  NaN           \n",
       "2             2.89                  78.57                0.795           \n",
       "3             1.90                  76.88                0.748           \n",
       "4              NaN                  83.73                0.868           "
      ],
      "text/html": "<div>\n<style scoped>\n    .dataframe tbody tr th:only-of-type {\n        vertical-align: middle;\n    }\n\n    .dataframe tbody tr th {\n        vertical-align: top;\n    }\n\n    .dataframe thead th {\n        text-align: right;\n    }\n</style>\n<table border=\"1\" class=\"dataframe\">\n  <thead>\n    <tr style=\"text-align: center;\">\n      <th></th>\n      <th>location</th>\n      <th>stringency_index</th>\n      <th>population_density</th>\n      <th>median_age</th>\n      <th>aged_65_and_older</th>\n      <th>aged_70_and_older</th>\n      <th>gdp_per_capita</th>\n      <th>extreme_poverty</th>\n      <th>cardiovascular_death_rate</th>\n      <th>diabetes_prevalence</th>\n      <th>handwashing_facilities</th>\n      <th>hospital_beds_per_thousand</th>\n      <th>life_expectancy</th>\n      <th>human_development_index</th>\n    </tr>\n  </thead>\n  <tbody>\n    <tr>\n      <th>0</th>\n      <td>Afghanistan</td>\n      <td>41.886694</td>\n      <td>54.422</td>\n      <td>18.6</td>\n      <td>2.581</td>\n      <td>1.337</td>\n      <td>1803.987</td>\n      <td>NaN</td>\n      <td>597.029</td>\n      <td>9.59</td>\n      <td>37.746</td>\n      <td>0.50</td>\n      <td>64.83</td>\n      <td>0.511</td>\n    </tr>\n    <tr>\n      <th>1</th>\n      <td>Africa</td>\n      <td>NaN</td>\n      <td>NaN</td>\n      <td>NaN</td>\n      <td>NaN</td>\n      <td>NaN</td>\n      <td>NaN</td>\n      <td>NaN</td>\n      <td>NaN</td>\n      <td>NaN</td>\n      <td>NaN</td>\n      <td>NaN</td>\n      <td>NaN</td>\n      <td>NaN</td>\n    </tr>\n    <tr>\n      <th>2</th>\n      <td>Albania</td>\n      <td>63.921617</td>\n      <td>104.871</td>\n      <td>38.0</td>\n      <td>13.188</td>\n      <td>8.643</td>\n      <td>11803.431</td>\n      <td>1.1</td>\n      <td>304.195</td>\n      <td>10.08</td>\n      <td>NaN</td>\n      <td>2.89</td>\n      <td>78.57</td>\n      <td>0.795</td>\n    </tr>\n    <tr>\n      <th>3</th>\n      <td>Algeria</td>\n      <td>70.942642</td>\n      <td>17.348</td>\n      <td>29.1</td>\n      <td>6.211</td>\n      <td>3.857</td>\n      <td>13913.839</td>\n      <td>0.5</td>\n      <td>278.364</td>\n      <td>6.73</td>\n      <td>83.741</td>\n      <td>1.90</td>\n      <td>76.88</td>\n      <td>0.748</td>\n    </tr>\n    <tr>\n      <th>4</th>\n      <td>Andorra</td>\n      <td>47.457068</td>\n      <td>163.755</td>\n      <td>NaN</td>\n      <td>NaN</td>\n      <td>NaN</td>\n      <td>NaN</td>\n      <td>NaN</td>\n      <td>109.135</td>\n      <td>7.97</td>\n      <td>NaN</td>\n      <td>NaN</td>\n      <td>83.73</td>\n      <td>0.868</td>\n    </tr>\n  </tbody>\n</table>\n</div>"
     },
     "metadata": {},
     "execution_count": 307
    }
   ],
   "source": [
    "economic_data = test_df[[\"location\", \"stringency_index\", \"population_density\",\"median_age\", \"aged_65_and_older\", \"aged_70_and_older\", \"gdp_per_capita\", \"extreme_poverty\", \"cardiovascular_death_rate\", \"diabetes_prevalence\", \"handwashing_facilities\", \"hospital_beds_per_thousand\", \"life_expectancy\", \"human_development_index\"]].copy()\n",
    "economic_data.head() \n"
   ]
  },
  {
   "cell_type": "code",
   "execution_count": 308,
   "metadata": {},
   "outputs": [],
   "source": [
    "rds_connection_string = \"postgres:1234@localhost:5432/Covid_db\"\n",
    "engine = create_engine(f'postgresql://{rds_connection_string}')"
   ]
  },
  {
   "cell_type": "code",
   "execution_count": 309,
   "metadata": {},
   "outputs": [
    {
     "output_type": "execute_result",
     "data": {
      "text/plain": [
       "['covid_data', 'population_data', 'economic_data']"
      ]
     },
     "metadata": {},
     "execution_count": 309
    }
   ],
   "source": [
    "engine.table_names()"
   ]
  },
  {
   "cell_type": "code",
   "execution_count": 310,
   "metadata": {},
   "outputs": [],
   "source": [
    "test_df.to_sql(name='location', con=engine, if_exists='append', index=False)"
   ]
  },
  {
   "cell_type": "code",
   "execution_count": 311,
   "metadata": {},
   "outputs": [],
   "source": [
    "test_df.to_sql(name='stringency_index', con=engine, if_exists='append', index=False)"
   ]
  },
  {
   "cell_type": "code",
   "execution_count": 312,
   "metadata": {},
   "outputs": [],
   "source": [
    "test_df.to_sql(name='population_density', con=engine, if_exists='append', index=False)"
   ]
  },
  {
   "cell_type": "code",
   "execution_count": 313,
   "metadata": {},
   "outputs": [],
   "source": [
    "test_df.to_sql(name='median_age', con=engine, if_exists='append', index=False)"
   ]
  },
  {
   "cell_type": "code",
   "execution_count": 314,
   "metadata": {},
   "outputs": [],
   "source": [
    "test_df.to_sql(name='aged_65_and_older', con=engine, if_exists='append', index=False)"
   ]
  },
  {
   "cell_type": "code",
   "execution_count": 315,
   "metadata": {},
   "outputs": [],
   "source": [
    "test_df.to_sql(name='aged_70_and_older', con=engine, if_exists='append', index=False)"
   ]
  },
  {
   "cell_type": "code",
   "execution_count": 317,
   "metadata": {},
   "outputs": [],
   "source": [
    "test_df.to_sql(name='gdp_per_capita', con=engine, if_exists='append', index=False)"
   ]
  },
  {
   "cell_type": "code",
   "execution_count": 318,
   "metadata": {},
   "outputs": [],
   "source": [
    "test_df.to_sql(name='extreme_poverty', con=engine, if_exists='append', index=False)"
   ]
  },
  {
   "cell_type": "code",
   "execution_count": 319,
   "metadata": {},
   "outputs": [],
   "source": [
    "test_df.to_sql(name='cardiovascular_death_rate', con=engine, if_exists='append', index=False)"
   ]
  },
  {
   "cell_type": "code",
   "execution_count": 321,
   "metadata": {},
   "outputs": [],
   "source": [
    "test_df.to_sql(name='diabetes_prevalence', con=engine, if_exists='append', index=False)"
   ]
  },
  {
   "cell_type": "code",
   "execution_count": 322,
   "metadata": {},
   "outputs": [],
   "source": [
    "test_df.to_sql(name='handwashing_facilities', con=engine, if_exists='append', index=False)"
   ]
  },
  {
   "cell_type": "code",
   "execution_count": 323,
   "metadata": {},
   "outputs": [],
   "source": [
    "test_df.to_sql(name='hospital_beds_per_thousand', con=engine, if_exists='append', index=False)"
   ]
  },
  {
   "cell_type": "code",
   "execution_count": 324,
   "metadata": {},
   "outputs": [],
   "source": [
    "test_df.to_sql(name='life_expectancy', con=engine, if_exists='append', index=False)"
   ]
  },
  {
   "cell_type": "code",
   "execution_count": 325,
   "metadata": {},
   "outputs": [],
   "source": [
    "test_df.to_sql(name='human_development_index', con=engine, if_exists='append', index=False)"
   ]
  },
  {
   "cell_type": "code",
   "execution_count": 326,
   "metadata": {},
   "outputs": [
    {
     "output_type": "execute_result",
     "data": {
      "text/plain": [
       "    location    stringency_index  population_density  median_age  \\\n",
       "0  Afghanistan      41.886694            54.422          18.6      \n",
       "1       Africa            NaN               NaN           NaN      \n",
       "2      Albania      63.921617           104.871          38.0      \n",
       "3      Algeria      70.942642            17.348          29.1      \n",
       "4      Andorra      47.457068           163.755           NaN      \n",
       "\n",
       "   aged_65_and_older  aged_70_and_older  gdp_per_capita  extreme_poverty  \\\n",
       "0        2.581              1.337            1803.987          NaN         \n",
       "1          NaN                NaN                 NaN          NaN         \n",
       "2       13.188              8.643           11803.431          1.1         \n",
       "3        6.211              3.857           13913.839          0.5         \n",
       "4          NaN                NaN                 NaN          NaN         \n",
       "\n",
       "   cardiovascular_death_rate  diabetes_prevalence  handwashing_facilities  \\\n",
       "0           597.029                   9.59                 37.746           \n",
       "1               NaN                    NaN                    NaN           \n",
       "2           304.195                  10.08                    NaN           \n",
       "3           278.364                   6.73                 83.741           \n",
       "4           109.135                   7.97                    NaN           \n",
       "\n",
       "   hospital_beds_per_thousand  life_expectancy  human_development_index  \n",
       "0             0.50                  64.83                0.511           \n",
       "1              NaN                    NaN                  NaN           \n",
       "2             2.89                  78.57                0.795           \n",
       "3             1.90                  76.88                0.748           \n",
       "4              NaN                  83.73                0.868           "
      ],
      "text/html": "<div>\n<style scoped>\n    .dataframe tbody tr th:only-of-type {\n        vertical-align: middle;\n    }\n\n    .dataframe tbody tr th {\n        vertical-align: top;\n    }\n\n    .dataframe thead th {\n        text-align: right;\n    }\n</style>\n<table border=\"1\" class=\"dataframe\">\n  <thead>\n    <tr style=\"text-align: center;\">\n      <th></th>\n      <th>location</th>\n      <th>stringency_index</th>\n      <th>population_density</th>\n      <th>median_age</th>\n      <th>aged_65_and_older</th>\n      <th>aged_70_and_older</th>\n      <th>gdp_per_capita</th>\n      <th>extreme_poverty</th>\n      <th>cardiovascular_death_rate</th>\n      <th>diabetes_prevalence</th>\n      <th>handwashing_facilities</th>\n      <th>hospital_beds_per_thousand</th>\n      <th>life_expectancy</th>\n      <th>human_development_index</th>\n    </tr>\n  </thead>\n  <tbody>\n    <tr>\n      <th>0</th>\n      <td>Afghanistan</td>\n      <td>41.886694</td>\n      <td>54.422</td>\n      <td>18.6</td>\n      <td>2.581</td>\n      <td>1.337</td>\n      <td>1803.987</td>\n      <td>NaN</td>\n      <td>597.029</td>\n      <td>9.59</td>\n      <td>37.746</td>\n      <td>0.50</td>\n      <td>64.83</td>\n      <td>0.511</td>\n    </tr>\n    <tr>\n      <th>1</th>\n      <td>Africa</td>\n      <td>NaN</td>\n      <td>NaN</td>\n      <td>NaN</td>\n      <td>NaN</td>\n      <td>NaN</td>\n      <td>NaN</td>\n      <td>NaN</td>\n      <td>NaN</td>\n      <td>NaN</td>\n      <td>NaN</td>\n      <td>NaN</td>\n      <td>NaN</td>\n      <td>NaN</td>\n    </tr>\n    <tr>\n      <th>2</th>\n      <td>Albania</td>\n      <td>63.921617</td>\n      <td>104.871</td>\n      <td>38.0</td>\n      <td>13.188</td>\n      <td>8.643</td>\n      <td>11803.431</td>\n      <td>1.1</td>\n      <td>304.195</td>\n      <td>10.08</td>\n      <td>NaN</td>\n      <td>2.89</td>\n      <td>78.57</td>\n      <td>0.795</td>\n    </tr>\n    <tr>\n      <th>3</th>\n      <td>Algeria</td>\n      <td>70.942642</td>\n      <td>17.348</td>\n      <td>29.1</td>\n      <td>6.211</td>\n      <td>3.857</td>\n      <td>13913.839</td>\n      <td>0.5</td>\n      <td>278.364</td>\n      <td>6.73</td>\n      <td>83.741</td>\n      <td>1.90</td>\n      <td>76.88</td>\n      <td>0.748</td>\n    </tr>\n    <tr>\n      <th>4</th>\n      <td>Andorra</td>\n      <td>47.457068</td>\n      <td>163.755</td>\n      <td>NaN</td>\n      <td>NaN</td>\n      <td>NaN</td>\n      <td>NaN</td>\n      <td>NaN</td>\n      <td>109.135</td>\n      <td>7.97</td>\n      <td>NaN</td>\n      <td>NaN</td>\n      <td>83.73</td>\n      <td>0.868</td>\n    </tr>\n  </tbody>\n</table>\n</div>"
     },
     "metadata": {},
     "execution_count": 326
    }
   ],
   "source": [
    "pd.read_sql_query('select * from human_development_index', con=engine).head()"
   ]
  },
  {
   "cell_type": "code",
   "execution_count": null,
   "metadata": {},
   "outputs": [],
   "source": []
  }
 ]
}